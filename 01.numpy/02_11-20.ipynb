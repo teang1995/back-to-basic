{
 "cells": [
  {
   "cell_type": "code",
   "execution_count": 1,
   "id": "59b41a45",
   "metadata": {},
   "outputs": [],
   "source": [
    "import numpy as np"
   ]
  },
  {
   "cell_type": "markdown",
   "id": "2ca37d06",
   "metadata": {},
   "source": [
    "**11. Create a 3x3 identity matrix**"
   ]
  },
  {
   "cell_type": "code",
   "execution_count": 2,
   "id": "1f6dea1d",
   "metadata": {},
   "outputs": [
    {
     "data": {
      "text/plain": [
       "array([[1., 0., 0.],\n",
       "       [0., 1., 0.],\n",
       "       [0., 0., 1.]])"
      ]
     },
     "execution_count": 2,
     "metadata": {},
     "output_type": "execute_result"
    }
   ],
   "source": [
    "a = np.eye(3)\n",
    "a"
   ]
  },
  {
   "cell_type": "markdown",
   "id": "fe83f3ed",
   "metadata": {},
   "source": [
    "**12. Create a 3x3x3 marray with random values**"
   ]
  },
  {
   "cell_type": "code",
   "execution_count": 3,
   "id": "0f1109e3",
   "metadata": {},
   "outputs": [
    {
     "data": {
      "text/plain": [
       "array([[[0.02571122, 0.46360895, 0.01516786],\n",
       "        [0.53682388, 0.43733759, 0.26646065],\n",
       "        [0.53369816, 0.13297916, 0.26736495]],\n",
       "\n",
       "       [[0.80098917, 0.54256621, 0.70453408],\n",
       "        [0.44868314, 0.41217662, 0.91169197],\n",
       "        [0.15444328, 0.93293728, 0.42223692]],\n",
       "\n",
       "       [[0.02168339, 0.08950227, 0.68668666],\n",
       "        [0.11584576, 0.84057744, 0.79697318],\n",
       "        [0.69573145, 0.12360324, 0.47822939]]])"
      ]
     },
     "execution_count": 3,
     "metadata": {},
     "output_type": "execute_result"
    }
   ],
   "source": [
    "a = np.random.rand(3, 3, 3)\n",
    "a"
   ]
  },
  {
   "cell_type": "markdown",
   "id": "a87a2946",
   "metadata": {},
   "source": [
    "**13. Create a 10x10 array with random values and the minimun and maximum values**"
   ]
  },
  {
   "cell_type": "code",
   "execution_count": 4,
   "id": "c82e2085",
   "metadata": {},
   "outputs": [
    {
     "name": "stdout",
     "output_type": "stream",
     "text": [
      "0.9996805212200861 0.000854861256604722\n"
     ]
    },
    {
     "data": {
      "text/plain": [
       "array([[5.97675478e-02, 7.45091413e-01, 5.92583825e-01, 2.27910643e-01,\n",
       "        1.70055217e-01, 8.54861257e-04, 5.30175290e-01, 4.85350130e-01,\n",
       "        3.21096804e-01, 7.87677932e-01],\n",
       "       [8.25019395e-01, 9.99680521e-01, 1.44990247e-01, 3.29949724e-01,\n",
       "        4.47902070e-01, 9.49597561e-01, 9.42434042e-01, 8.98169316e-01,\n",
       "        8.69085103e-01, 7.24541790e-01],\n",
       "       [6.85659477e-01, 8.01166964e-01, 7.08921406e-01, 7.11774906e-02,\n",
       "        4.98084132e-01, 7.82500577e-01, 4.80382917e-01, 1.95007356e-01,\n",
       "        2.22983069e-01, 3.80973317e-01],\n",
       "       [4.04131338e-01, 3.61276114e-02, 1.47489541e-02, 8.04400059e-01,\n",
       "        3.32202070e-01, 8.27770605e-02, 7.47520366e-01, 1.92595026e-01,\n",
       "        6.55529269e-01, 9.90990323e-01],\n",
       "       [6.86534346e-01, 1.95431785e-01, 1.66977874e-01, 3.98129065e-01,\n",
       "        1.56998327e-01, 7.34323526e-01, 9.88089902e-01, 6.03100221e-01,\n",
       "        1.76506922e-02, 9.41845161e-01],\n",
       "       [8.80081614e-01, 7.21377191e-01, 9.10645643e-01, 1.86331458e-01,\n",
       "        6.11190029e-01, 7.57794811e-02, 8.63705525e-01, 4.87061085e-01,\n",
       "        7.09425298e-02, 3.58110524e-01],\n",
       "       [1.76308391e-01, 7.74758182e-01, 8.18984048e-01, 5.53928703e-02,\n",
       "        5.58254159e-01, 3.26708603e-01, 7.83712725e-02, 3.45436837e-01,\n",
       "        4.45074405e-01, 9.57165057e-01],\n",
       "       [5.56337405e-01, 7.33152629e-01, 6.99682220e-01, 6.26973578e-01,\n",
       "        3.10440599e-02, 4.41020235e-01, 9.96273318e-01, 6.67459843e-01,\n",
       "        2.29710801e-01, 6.54466833e-01],\n",
       "       [5.45555279e-02, 9.79145108e-01, 3.04840276e-01, 1.78806378e-01,\n",
       "        4.87668212e-01, 3.23822228e-01, 1.10603437e-01, 4.06774961e-01,\n",
       "        3.26217799e-01, 3.97474314e-01],\n",
       "       [6.30405161e-01, 3.37266380e-01, 9.01114335e-01, 5.46503808e-01,\n",
       "        5.24283672e-01, 9.37761589e-01, 8.27241339e-02, 5.24613007e-02,\n",
       "        5.08427410e-01, 2.64412844e-01]])"
      ]
     },
     "execution_count": 4,
     "metadata": {},
     "output_type": "execute_result"
    }
   ],
   "source": [
    "a = np.random.rand(10, 10)\n",
    "max_ = np.max(a)\n",
    "min_ = np.min(a)\n",
    "print(max_, min_)\n",
    "a"
   ]
  },
  {
   "cell_type": "markdown",
   "id": "3a94cfa8",
   "metadata": {},
   "source": [
    "**14. Create a random vector of size 30 and find the mean value**"
   ]
  },
  {
   "cell_type": "code",
   "execution_count": 5,
   "id": "dac596aa",
   "metadata": {},
   "outputs": [
    {
     "name": "stdout",
     "output_type": "stream",
     "text": [
      "0.4666505351630892\n"
     ]
    },
    {
     "data": {
      "text/plain": [
       "array([0.01297183, 0.10688939, 0.61254934, 0.86007663, 0.66518717,\n",
       "       0.65012987, 0.95476232, 0.16779741, 0.7302735 , 0.45000873,\n",
       "       0.64156171, 0.33694093, 0.33215836, 0.42629553, 0.77123953,\n",
       "       0.00464013, 0.68518278, 0.82366825, 0.00192431, 0.26783476,\n",
       "       0.32966674, 0.93977724, 0.25935245, 0.35767448, 0.63709752,\n",
       "       0.39820948, 0.014987  , 0.36227581, 0.21352188, 0.98486096])"
      ]
     },
     "execution_count": 5,
     "metadata": {},
     "output_type": "execute_result"
    }
   ],
   "source": [
    "a = np.random.rand(30)\n",
    "print(np.mean(a))\n",
    "a"
   ]
  },
  {
   "cell_type": "markdown",
   "id": "3b64f14e",
   "metadata": {},
   "source": [
    "**15. Create a 2d arrray with 1 on the border and 0 insde**"
   ]
  },
  {
   "cell_type": "code",
   "execution_count": 6,
   "id": "3ebf6ccb",
   "metadata": {},
   "outputs": [
    {
     "name": "stdout",
     "output_type": "stream",
     "text": [
      "[[0. 0. 0. 0.]\n",
      " [0. 0. 0. 0.]\n",
      " [0. 0. 0. 0.]\n",
      " [0. 0. 0. 0.]]\n",
      "[[1. 1. 1. 1. 1. 1.]\n",
      " [1. 0. 0. 0. 0. 1.]\n",
      " [1. 0. 0. 0. 0. 1.]\n",
      " [1. 0. 0. 0. 0. 1.]\n",
      " [1. 0. 0. 0. 0. 1.]\n",
      " [1. 1. 1. 1. 1. 1.]]\n"
     ]
    },
    {
     "data": {
      "text/plain": [
       "array([[1., 1., 1., 1., 1., 1.],\n",
       "       [1., 0., 0., 0., 0., 1.],\n",
       "       [1., 0., 0., 0., 0., 1.],\n",
       "       [1., 0., 0., 0., 0., 1.],\n",
       "       [1., 0., 0., 0., 0., 1.],\n",
       "       [1., 1., 1., 1., 1., 1.]])"
      ]
     },
     "execution_count": 6,
     "metadata": {},
     "output_type": "execute_result"
    }
   ],
   "source": [
    "# my solution\n",
    "a = np.zeros((4, 4))\n",
    "print(a)\n",
    "a = np.pad(a, ((1, 1), (1, 1)), 'constant', constant_values=1)\n",
    "print(a)\n",
    "\n",
    "# solution\n",
    "a = np.ones((6, 6))\n",
    "a[1:-1, 1:-1] = 0\n",
    "a"
   ]
  },
  {
   "cell_type": "markdown",
   "id": "1c5ee9a2",
   "metadata": {},
   "source": [
    "**16. How to add a border around an existing array?**"
   ]
  },
  {
   "cell_type": "code",
   "execution_count": 7,
   "id": "dce9be7e",
   "metadata": {},
   "outputs": [
    {
     "name": "stdout",
     "output_type": "stream",
     "text": [
      "[[0. 0. 0. 0.]\n",
      " [0. 0. 0. 0.]\n",
      " [0. 0. 0. 0.]\n",
      " [0. 0. 0. 0.]]\n",
      "[[1. 1. 1. 1. 1. 1.]\n",
      " [1. 0. 0. 0. 0. 1.]\n",
      " [1. 0. 0. 0. 0. 1.]\n",
      " [1. 0. 0. 0. 0. 1.]\n",
      " [1. 0. 0. 0. 0. 1.]\n",
      " [1. 1. 1. 1. 1. 1.]]\n",
      "[[0. 0. 0. 0. 0. 0.]\n",
      " [0. 1. 1. 1. 1. 0.]\n",
      " [0. 1. 1. 1. 1. 0.]\n",
      " [0. 1. 1. 1. 1. 0.]\n",
      " [0. 1. 1. 1. 1. 0.]\n",
      " [0. 0. 0. 0. 0. 0.]]\n"
     ]
    }
   ],
   "source": [
    "# my solution\n",
    "a = np.zeros((4, 4))\n",
    "print(a)\n",
    "a = np.pad(a, ((1, 1), (1, 1)), 'constant', constant_values=1)\n",
    "print(a)\n",
    "\n",
    "# fancy solution\n",
    "Z = np.ones((6, 6))\n",
    "Z[:, [0, -1]] = 0\n",
    "Z[[0, -1], :] = 0\n",
    "print(Z)"
   ]
  },
  {
   "cell_type": "markdown",
   "id": "ebaecffd",
   "metadata": {},
   "source": [
    "**17. What is the result of the following expression?**\n",
    "```python\n",
    "0 * np.nan\n",
    "np.nan == np.nan\n",
    "np.inf > np.nan\n",
    "np.nan - np.nan\n",
    "np.nan in set([np.nan])\n",
    "0.3 == 3 * 0.1\n",
    "```\n",
    "my answers\n",
    "1. np.nan\n",
    "2. False\n",
    "3. False\n",
    "4. error? -> nan\n",
    "5. False -> True\n",
    "6. False"
   ]
  },
  {
   "cell_type": "code",
   "execution_count": 8,
   "id": "cb5d8a40",
   "metadata": {},
   "outputs": [
    {
     "name": "stdout",
     "output_type": "stream",
     "text": [
      "nan\n",
      "False\n",
      "False\n",
      "nan\n",
      "True\n",
      "False\n"
     ]
    }
   ],
   "source": [
    "print(0 * np.nan)\n",
    "print(np.nan == np.nan)\n",
    "print(np.inf > np.nan)\n",
    "print(np.nan - np.nan)\n",
    "print(np.nan in set([np.nan]))\n",
    "print(0.3 == 3 * 0.1)"
   ]
  },
  {
   "cell_type": "markdown",
   "id": "59065628",
   "metadata": {},
   "source": [
    "**18. Create a 5x5 matrix with values 1,2,3,4 just velow the diagonal**"
   ]
  },
  {
   "cell_type": "code",
   "execution_count": 9,
   "id": "b78ffcef",
   "metadata": {
    "scrolled": true
   },
   "outputs": [
    {
     "data": {
      "text/plain": [
       "array([[0, 0, 0, 0, 0],\n",
       "       [1, 0, 0, 0, 0],\n",
       "       [0, 2, 0, 0, 0],\n",
       "       [0, 0, 3, 0, 0],\n",
       "       [0, 0, 0, 4, 0]])"
      ]
     },
     "execution_count": 9,
     "metadata": {},
     "output_type": "execute_result"
    }
   ],
   "source": [
    "a = np.diag(1 + np.arange(4), k=-1)\n",
    "a"
   ]
  },
  {
   "cell_type": "markdown",
   "id": "500793cc",
   "metadata": {},
   "source": [
    "**Explore np.diag**"
   ]
  },
  {
   "cell_type": "markdown",
   "id": "3b176d95",
   "metadata": {},
   "source": [
    "[np.diag document](https://numpy.org/doc/stable/reference/generated/numpy.diag.html)\n",
    "\n",
    "numpy.diag(v, k=0)\n",
    "\n",
    "Parameters\n",
    "\n",
    "v : array_like\n",
    "if v is a 2-D array, return a copy of its k-th diagonal. if v is a 1-D array, return a 2-D array with v on the k-th diagonal.\n",
    "\n",
    "k : int, optional\n",
    "Diagonal in question. The default is 0. Use k > 0 for diagonals above the main diagonal, and k < 0 for diagonals below the main diagonal."
   ]
  },
  {
   "cell_type": "code",
   "execution_count": 10,
   "id": "f0be79d9",
   "metadata": {},
   "outputs": [
    {
     "name": "stdout",
     "output_type": "stream",
     "text": [
      "[0 1 2 3 4 5]\n",
      "[1 2 3 4 5 6]\n"
     ]
    }
   ],
   "source": [
    "a = np.arange(6)\n",
    "print(a)\n",
    "a = 1 + a\n",
    "print(a)"
   ]
  },
  {
   "cell_type": "code",
   "execution_count": 11,
   "id": "b805afc6",
   "metadata": {},
   "outputs": [
    {
     "data": {
      "text/plain": [
       "array([[0, 0, 0, 1, 0, 0, 0, 0, 0],\n",
       "       [0, 0, 0, 0, 2, 0, 0, 0, 0],\n",
       "       [0, 0, 0, 0, 0, 3, 0, 0, 0],\n",
       "       [0, 0, 0, 0, 0, 0, 4, 0, 0],\n",
       "       [0, 0, 0, 0, 0, 0, 0, 5, 0],\n",
       "       [0, 0, 0, 0, 0, 0, 0, 0, 6],\n",
       "       [0, 0, 0, 0, 0, 0, 0, 0, 0],\n",
       "       [0, 0, 0, 0, 0, 0, 0, 0, 0],\n",
       "       [0, 0, 0, 0, 0, 0, 0, 0, 0]])"
      ]
     },
     "execution_count": 11,
     "metadata": {},
     "output_type": "execute_result"
    }
   ],
   "source": [
    "a = np.diag(1 + np.arange(6), k = 3)\n",
    "a\n",
    "# 아하, k를 늘리면 이 성분들을 main diagonal 의 k 번째 위에, 혹은 아래에 올릴 수 있게끔 array shape을 맞추어주는구나."
   ]
  },
  {
   "cell_type": "markdown",
   "id": "d08fffe0",
   "metadata": {},
   "source": [
    "**19. Create a 8x8 matrix and fill it with a checkerboard pattern**"
   ]
  },
  {
   "cell_type": "code",
   "execution_count": 12,
   "id": "662f85be",
   "metadata": {},
   "outputs": [
    {
     "data": {
      "text/plain": [
       "array([[0, 1, 0, 1, 0, 1, 0, 1],\n",
       "       [1, 0, 1, 0, 1, 0, 1, 0],\n",
       "       [0, 1, 0, 1, 0, 1, 0, 1],\n",
       "       [1, 0, 1, 0, 1, 0, 1, 0],\n",
       "       [0, 1, 0, 1, 0, 1, 0, 1],\n",
       "       [1, 0, 1, 0, 1, 0, 1, 0],\n",
       "       [0, 1, 0, 1, 0, 1, 0, 1],\n",
       "       [1, 0, 1, 0, 1, 0, 1, 0]])"
      ]
     },
     "execution_count": 12,
     "metadata": {},
     "output_type": "execute_result"
    }
   ],
   "source": [
    "a = np.zeros((8, 8), dtype=int)\n",
    "a[1::2, 0::2] = 1 # y축으로 1행부터 시작해서 두 칸에 한 번씩 1로 채운다. 단, x축으로는 0번째 열부터 두 열에 한 번씩\n",
    "a[0::2, 1::2] = 1 # y축으로 0행부터 시작해서 두 칸에 한 번씩 1로 채운다. 단, x축으로는 1번째 열부터 두 열에 한 번씩\n",
    "a"
   ]
  },
  {
   "cell_type": "markdown",
   "id": "24fc5820",
   "metadata": {},
   "source": [
    "**20. Consider a (6, 7, 8) shape array, what is the index (x, y, z) of the 100th element?**"
   ]
  },
  {
   "cell_type": "code",
   "execution_count": 13,
   "id": "dd21c24e",
   "metadata": {
    "scrolled": true
   },
   "outputs": [
    {
     "data": {
      "text/plain": [
       "(1, 5, 3)"
      ]
     },
     "execution_count": 13,
     "metadata": {},
     "output_type": "execute_result"
    }
   ],
   "source": [
    "np.unravel_index(99, (6, 7, 8))"
   ]
  },
  {
   "cell_type": "markdown",
   "id": "86507861",
   "metadata": {},
   "source": [
    "**Explore np.unravel_index**"
   ]
  },
  {
   "cell_type": "markdown",
   "id": "c19c135e",
   "metadata": {},
   "source": [
    "[np.unravel_index document](https://numpy.org/doc/stable/reference/generated/numpy.unravel_index.html)\n",
    "\n",
    "np.unravel_index(indices, shape, order='C')\n",
    "\n",
    "Parameters\n",
    "\n",
    "indices: array_like\n",
    "An integer array whose elements are indices into the flattened version of an array of dimensions shape.\n",
    "\n",
    "\n",
    "shape: tuple of ints\n",
    "The shape of the array to use for unraveling indices.\n",
    "\n",
    "\n",
    "order : {'C', 'F'}, optional, default='C'\n",
    "Determines whether the indices should be viewed as indexing in row-major (C-style) or column-major (Fortran-style) order.\n"
   ]
  },
  {
   "cell_type": "code",
   "execution_count": 14,
   "id": "88b94e4e",
   "metadata": {},
   "outputs": [
    {
     "data": {
      "text/plain": [
       "(1, 3)"
      ]
     },
     "execution_count": 14,
     "metadata": {},
     "output_type": "execute_result"
    }
   ],
   "source": [
    "np.unravel_index(10, (3, 7)) \n",
    "# 아하, shape 인자의 shape을 가지는 array를 flatten시켰을 때 \n",
    "# indices에 있는 친구들이 기존 array에서 어떤 위치에 있는지를 보는 거구나."
   ]
  },
  {
   "cell_type": "code",
   "execution_count": 15,
   "id": "9b26fb12",
   "metadata": {
    "scrolled": true
   },
   "outputs": [
    {
     "data": {
      "text/plain": [
       "(array([1, 1]), array([5, 5]), array([3, 4]))"
      ]
     },
     "execution_count": 15,
     "metadata": {},
     "output_type": "execute_result"
    }
   ],
   "source": [
    "np.unravel_index([99, 100], (6, 7, 8))\n",
    "# indices에 여러 개의 인자를 넣어주면 각 축의 좌표들을 반환해주는구나."
   ]
  },
  {
   "cell_type": "code",
   "execution_count": 16,
   "id": "957b6054",
   "metadata": {},
   "outputs": [
    {
     "data": {
      "text/plain": [
       "(3, 2, 2)"
      ]
     },
     "execution_count": 16,
     "metadata": {},
     "output_type": "execute_result"
    }
   ],
   "source": [
    "np.unravel_index(99, (6, 7, 8), order='F')\n",
    "# order를 column-major로 바꾸어주었더니 반환되는 인덱스가 달라지는 것을 확인할 수 있다."
   ]
  }
 ],
 "metadata": {
  "kernelspec": {
   "display_name": "Python 3 (ipykernel)",
   "language": "python",
   "name": "python3"
  },
  "language_info": {
   "codemirror_mode": {
    "name": "ipython",
    "version": 3
   },
   "file_extension": ".py",
   "mimetype": "text/x-python",
   "name": "python",
   "nbconvert_exporter": "python",
   "pygments_lexer": "ipython3",
   "version": "3.9.6"
  }
 },
 "nbformat": 4,
 "nbformat_minor": 5
}
