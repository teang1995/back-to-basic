{
 "cells": [
  {
   "cell_type": "code",
   "execution_count": 1,
   "id": "a6799845",
   "metadata": {},
   "outputs": [],
   "source": [
    "import numpy as np"
   ]
  },
  {
   "cell_type": "markdown",
   "id": "8af9eb93",
   "metadata": {},
   "source": [
    "### 51. Create a structured array representing a position (x,y) and a color (r,g,b) (★★☆)"
   ]
  },
  {
   "cell_type": "code",
   "execution_count": 3,
   "id": "588e4b97",
   "metadata": {
    "scrolled": true
   },
   "outputs": [
    {
     "name": "stdout",
     "output_type": "stream",
     "text": [
      "[(([0.], 0.), (0., 0., 0.)) (([0.], 0.), (0., 0., 0.))\n",
      " (([0.], 0.), (0., 0., 0.)) (([0.], 0.), (0., 0., 0.))\n",
      " (([0.], 0.), (0., 0., 0.)) (([0.], 0.), (0., 0., 0.))\n",
      " (([0.], 0.), (0., 0., 0.)) (([0.], 0.), (0., 0., 0.))\n",
      " (([0.], 0.), (0., 0., 0.)) (([0.], 0.), (0., 0., 0.))]\n"
     ]
    },
    {
     "name": "stderr",
     "output_type": "stream",
     "text": [
      "/var/folders/gz/t8526n4x0v3g9cdsyk8jmz9c0000gn/T/ipykernel_15226/2508704418.py:1: FutureWarning: Passing (type, 1) or '1type' as a synonym of type is deprecated; in a future version of numpy, it will be understood as (type, (1,)) / '(1,)type'.\n",
      "  Z = np.zeros(10, [ ('position', [ ('x', float, (1,)),\n"
     ]
    }
   ],
   "source": [
    "Z = np.zeros(10, [ ('position', [ ('x', float, 1),\n",
    "                                  ('y', float, 1)]),\n",
    "                   ('color',    [ ('r', float, 1),\n",
    "                                  ('g', float, 1),\n",
    "                                  ('b', float, 1)])])\n",
    "print(Z)"
   ]
  },
  {
   "cell_type": "code",
   "execution_count": 4,
   "id": "3e2b43fb",
   "metadata": {
    "scrolled": false
   },
   "outputs": [
    {
     "data": {
      "text/plain": [
       "array([([0.], 0.), ([0.], 0.), ([0.], 0.), ([0.], 0.), ([0.], 0.),\n",
       "       ([0.], 0.), ([0.], 0.), ([0.], 0.), ([0.], 0.), ([0.], 0.)],\n",
       "      dtype=[('x', '<f8', (1,)), ('y', '<f8')])"
      ]
     },
     "execution_count": 4,
     "metadata": {},
     "output_type": "execute_result"
    }
   ],
   "source": [
    "Z['position']"
   ]
  },
  {
   "cell_type": "code",
   "execution_count": 6,
   "id": "1e32ead3",
   "metadata": {},
   "outputs": [
    {
     "data": {
      "text/plain": [
       "array([[0.],\n",
       "       [0.],\n",
       "       [0.],\n",
       "       [0.],\n",
       "       [0.],\n",
       "       [0.],\n",
       "       [0.],\n",
       "       [0.],\n",
       "       [0.],\n",
       "       [0.]])"
      ]
     },
     "execution_count": 6,
     "metadata": {},
     "output_type": "execute_result"
    }
   ],
   "source": [
    "Z['position']['x']"
   ]
  },
  {
   "cell_type": "code",
   "execution_count": 5,
   "id": "f0986249",
   "metadata": {
    "scrolled": true
   },
   "outputs": [
    {
     "data": {
      "text/plain": [
       "array([(0., 0., 0.), (0., 0., 0.), (0., 0., 0.), (0., 0., 0.),\n",
       "       (0., 0., 0.), (0., 0., 0.), (0., 0., 0.), (0., 0., 0.),\n",
       "       (0., 0., 0.), (0., 0., 0.)],\n",
       "      dtype=[('r', '<f8'), ('g', '<f8'), ('b', '<f8')])"
      ]
     },
     "execution_count": 5,
     "metadata": {},
     "output_type": "execute_result"
    }
   ],
   "source": [
    "Z['color']"
   ]
  },
  {
   "cell_type": "code",
   "execution_count": 7,
   "id": "04c0abab",
   "metadata": {},
   "outputs": [
    {
     "data": {
      "text/plain": [
       "array([0., 0., 0., 0., 0., 0., 0., 0., 0., 0.])"
      ]
     },
     "execution_count": 7,
     "metadata": {},
     "output_type": "execute_result"
    }
   ],
   "source": [
    "Z['color']['r']"
   ]
  },
  {
   "cell_type": "markdown",
   "id": "9b7345b2",
   "metadata": {},
   "source": [
    "### 52. Consider a random vector with shape (100,2) representing coordinates, find point by point distances (★★☆)\n"
   ]
  },
  {
   "cell_type": "code",
   "execution_count": 23,
   "id": "9b210ae1",
   "metadata": {
    "scrolled": false
   },
   "outputs": [
    {
     "name": "stdout",
     "output_type": "stream",
     "text": [
      "[[0.         1.094751   0.78060604 ... 0.88850599 0.78085119 0.6912468 ]\n",
      " [1.094751   0.         0.50628712 ... 0.58515995 0.66734689 0.41616171]\n",
      " [0.78060604 0.50628712 0.         ... 0.80253781 0.16782829 0.40884187]\n",
      " ...\n",
      " [0.88850599 0.58515995 0.80253781 ... 0.         0.95418651 0.39848742]\n",
      " [0.78085119 0.66734689 0.16782829 ... 0.95418651 0.         0.55597173]\n",
      " [0.6912468  0.41616171 0.40884187 ... 0.39848742 0.55597173 0.        ]]\n"
     ]
    }
   ],
   "source": [
    "Z = np.random.random((100,2))\n",
    "X,Y = np.atleast_2d(Z[:,0], Z[:,1])\n",
    "D = np.sqrt( (X-X.T)**2 + (Y-Y.T)**2)\n",
    "print(D)"
   ]
  },
  {
   "cell_type": "code",
   "execution_count": 28,
   "id": "e8e80a89",
   "metadata": {},
   "outputs": [
    {
     "name": "stdout",
     "output_type": "stream",
     "text": [
      "[[1 2 3]]\n",
      "[[1, 2, 3]]\n"
     ]
    }
   ],
   "source": [
    "# Explore np.atleast_2d\n",
    "a = [1, 2, 3]\n",
    "b = np.atleast_2d(a)\n",
    "print(b)\n",
    "\n",
    "c = [[1, 2, 3]]\n",
    "d = np.atleast_2d(c)\n",
    "print(c)"
   ]
  },
  {
   "cell_type": "markdown",
   "id": "ec26ed58",
   "metadata": {},
   "source": [
    "### 53. How to convert a float (32 bits) array into an integer (32 bits) in place?"
   ]
  },
  {
   "cell_type": "code",
   "execution_count": 32,
   "id": "3dd1b453",
   "metadata": {},
   "outputs": [
    {
     "name": "stdout",
     "output_type": "stream",
     "text": [
      "[57.50166   11.196404  33.64052   13.2336445 52.44966    2.1205459\n",
      " 81.34661   45.757217  14.469437  73.918755 ]\n",
      "[1113981363 1093870713 1107726308 1096006914 1112657012 1074247430\n",
      " 1117958519 1110902628 1097302736 1116984935]\n",
      "[57 11 33 13 52  2 81 45 14 73]\n",
      "[0 0 0 0 0 0 0 0 0 0]\n"
     ]
    }
   ],
   "source": [
    "# Thanks Vikas (https://stackoverflow.com/a/10622758/5989906)\n",
    "# & unutbu (https://stackoverflow.com/a/4396247/5989906)\n",
    "Z = (np.random.rand(10)*100).astype(np.float32)\n",
    "print(Z)\n",
    "Y = Z.view(np.int32)\n",
    "print(Y)\n",
    "Y[:] = Z\n",
    "print(Y)\n",
    "print(Z.astype(np.int32))"
   ]
  },
  {
   "cell_type": "code",
   "execution_count": 33,
   "id": "20d37848",
   "metadata": {},
   "outputs": [],
   "source": [
    "# Explore np.view\n",
    "# ??"
   ]
  },
  {
   "cell_type": "markdown",
   "id": "4345b328",
   "metadata": {},
   "source": [
    "### 54. How to read the following file? (★★☆)\n",
    "```\n",
    "1, 2, 3, 4, 5\n",
    "6,  ,  , 7, 8\n",
    " ,  , 9,10,11\n",
    "```"
   ]
  },
  {
   "cell_type": "code",
   "execution_count": 34,
   "id": "7c69742d",
   "metadata": {},
   "outputs": [
    {
     "name": "stdout",
     "output_type": "stream",
     "text": [
      "[[ 1  2  3  4  5]\n",
      " [ 6 -1 -1  7  8]\n",
      " [-1 -1  9 10 11]]\n"
     ]
    },
    {
     "name": "stderr",
     "output_type": "stream",
     "text": [
      "/var/folders/gz/t8526n4x0v3g9cdsyk8jmz9c0000gn/T/ipykernel_15226/1868410621.py:10: DeprecationWarning: `np.int` is a deprecated alias for the builtin `int`. To silence this warning, use `int` by itself. Doing this will not modify any behavior and is safe. When replacing `np.int`, you may wish to use e.g. `np.int64` or `np.int32` to specify the precision. If you wish to review your current use, check the release note link for additional information.\n",
      "Deprecated in NumPy 1.20; for more details and guidance: https://numpy.org/devdocs/release/1.20.0-notes.html#deprecations\n",
      "  Z = np.genfromtxt(s, delimiter=\",\", dtype=np.int)\n"
     ]
    }
   ],
   "source": [
    "# Answer\n",
    "from io import StringIO\n",
    "\n",
    "# Fake file\n",
    "s = StringIO('''1, 2, 3, 4, 5\n",
    "\n",
    "                6,  ,  , 7, 8\n",
    "\n",
    "                 ,  , 9,10,11\n",
    "''')\n",
    "Z = np.genfromtxt(s, delimiter=\",\", dtype=np.int)\n",
    "print(Z)\n",
    "# 결측치 있는 데이터 불러올 때 유용할 듯."
   ]
  },
  {
   "cell_type": "markdown",
   "id": "2c57539b",
   "metadata": {},
   "source": [
    "### 55. What is the equivalent of enumerate for numpy arrays? (★★☆)\n"
   ]
  },
  {
   "cell_type": "code",
   "execution_count": 35,
   "id": "0b7e2a04",
   "metadata": {},
   "outputs": [
    {
     "name": "stdout",
     "output_type": "stream",
     "text": [
      "(0, 0) 0\n",
      "(0, 1) 1\n",
      "(0, 2) 2\n",
      "(1, 0) 3\n",
      "(1, 1) 4\n",
      "(1, 2) 5\n",
      "(2, 0) 6\n",
      "(2, 1) 7\n",
      "(2, 2) 8\n",
      "(0, 0) 0\n",
      "(0, 1) 1\n",
      "(0, 2) 2\n",
      "(1, 0) 3\n",
      "(1, 1) 4\n",
      "(1, 2) 5\n",
      "(2, 0) 6\n",
      "(2, 1) 7\n",
      "(2, 2) 8\n"
     ]
    }
   ],
   "source": [
    "Z = np.arange(9).reshape(3,3)\n",
    "for index, value in np.ndenumerate(Z):\n",
    "    print(index, value)\n",
    "for index in np.ndindex(Z.shape):\n",
    "    print(index, Z[index])\n",
    "    \n",
    "# 알아는 두겠지만 이런 연산은 numpy/tensor의 강점을 하나도 못 살린 것이라 생각함"
   ]
  },
  {
   "cell_type": "markdown",
   "id": "e8c5d04a",
   "metadata": {},
   "source": [
    "### 56. Generate a generic 2D Gaussian-like array (★★☆)"
   ]
  },
  {
   "cell_type": "code",
   "execution_count": 38,
   "id": "d87d7b3f",
   "metadata": {},
   "outputs": [
    {
     "name": "stdout",
     "output_type": "stream",
     "text": [
      "[[0.36787944 0.44822088 0.51979489 0.57375342 0.60279818 0.60279818\n",
      "  0.57375342 0.51979489 0.44822088 0.36787944]\n",
      " [0.44822088 0.54610814 0.63331324 0.69905581 0.73444367 0.73444367\n",
      "  0.69905581 0.63331324 0.54610814 0.44822088]\n",
      " [0.51979489 0.63331324 0.73444367 0.81068432 0.85172308 0.85172308\n",
      "  0.81068432 0.73444367 0.63331324 0.51979489]\n",
      " [0.57375342 0.69905581 0.81068432 0.89483932 0.9401382  0.9401382\n",
      "  0.89483932 0.81068432 0.69905581 0.57375342]\n",
      " [0.60279818 0.73444367 0.85172308 0.9401382  0.98773022 0.98773022\n",
      "  0.9401382  0.85172308 0.73444367 0.60279818]\n",
      " [0.60279818 0.73444367 0.85172308 0.9401382  0.98773022 0.98773022\n",
      "  0.9401382  0.85172308 0.73444367 0.60279818]\n",
      " [0.57375342 0.69905581 0.81068432 0.89483932 0.9401382  0.9401382\n",
      "  0.89483932 0.81068432 0.69905581 0.57375342]\n",
      " [0.51979489 0.63331324 0.73444367 0.81068432 0.85172308 0.85172308\n",
      "  0.81068432 0.73444367 0.63331324 0.51979489]\n",
      " [0.44822088 0.54610814 0.63331324 0.69905581 0.73444367 0.73444367\n",
      "  0.69905581 0.63331324 0.54610814 0.44822088]\n",
      " [0.36787944 0.44822088 0.51979489 0.57375342 0.60279818 0.60279818\n",
      "  0.57375342 0.51979489 0.44822088 0.36787944]]\n"
     ]
    }
   ],
   "source": [
    "X, Y = np.meshgrid(np.linspace(-1,1,10), np.linspace(-1,1,10)) \n",
    "# 가운데로 갈 수록 0에 가까워지는 X, Y\n",
    "# 그런데 sigma를 빼주니까 가운데로 갈 수록 1에 가까워진다.\n",
    "D = np.sqrt(X*X+Y*Y)\n",
    "sigma, mu = 1.0, 0.0\n",
    "G = np.exp(-( (D-mu)**2 / ( 2.0 * sigma**2 ) ) )\n",
    "print(G)"
   ]
  },
  {
   "cell_type": "markdown",
   "id": "7b659543",
   "metadata": {},
   "source": [
    "### 57. How to randomly place p elements in a 2D array? (★★☆)"
   ]
  },
  {
   "cell_type": "code",
   "execution_count": 46,
   "id": "71c0b210",
   "metadata": {
    "scrolled": true
   },
   "outputs": [
    {
     "name": "stdout",
     "output_type": "stream",
     "text": [
      "[56 20 79]\n",
      "[[0. 0. 0. 0. 0. 0. 0. 0. 0. 0.]\n",
      " [0. 0. 0. 0. 0. 0. 0. 0. 0. 0.]\n",
      " [2. 0. 0. 0. 0. 0. 0. 0. 0. 0.]\n",
      " [0. 0. 0. 0. 0. 0. 0. 0. 0. 0.]\n",
      " [0. 0. 0. 0. 0. 0. 0. 0. 0. 0.]\n",
      " [0. 0. 0. 0. 0. 0. 2. 0. 0. 0.]\n",
      " [0. 0. 0. 0. 0. 0. 0. 0. 0. 0.]\n",
      " [0. 0. 0. 0. 0. 0. 0. 0. 0. 2.]\n",
      " [0. 0. 0. 0. 0. 0. 0. 0. 0. 0.]\n",
      " [0. 0. 0. 0. 0. 0. 0. 0. 0. 0.]]\n"
     ]
    }
   ],
   "source": [
    "n = 10\n",
    "p = 3\n",
    "Z = np.zeros((n,n))\n",
    "points = np.random.choice(range(n * n), p, replace=False)\n",
    "print(points)\n",
    "np.put(Z, points,2)\n",
    "print(Z)"
   ]
  },
  {
   "cell_type": "code",
   "execution_count": 42,
   "id": "d011fc30",
   "metadata": {},
   "outputs": [
    {
     "data": {
      "text/plain": [
       "array([1, 2, 4])"
      ]
     },
     "execution_count": 42,
     "metadata": {},
     "output_type": "execute_result"
    }
   ],
   "source": [
    "# Explore np.put\n",
    "# numpy.put(a, ind, v, mode='raise')\n",
    "a = np.array([1, 2, 3])\n",
    "np.put(a, 2, 4)\n",
    "a"
   ]
  },
  {
   "cell_type": "code",
   "execution_count": 45,
   "id": "0dfd27fc",
   "metadata": {},
   "outputs": [
    {
     "data": {
      "text/plain": [
       "array([49, 44,  5])"
      ]
     },
     "execution_count": 45,
     "metadata": {},
     "output_type": "execute_result"
    }
   ],
   "source": [
    "# Explore np.random.choice\n",
    "# random.choice(a, size=None, replace=True, p=None)\n",
    "np.random.choice(range(n*n), 3, replace=False)"
   ]
  },
  {
   "cell_type": "code",
   "execution_count": 43,
   "id": "024df493",
   "metadata": {},
   "outputs": [
    {
     "data": {
      "text/plain": [
       "range(0, 25)"
      ]
     },
     "execution_count": 43,
     "metadata": {},
     "output_type": "execute_result"
    }
   ],
   "source": [
    "# Explore range\n",
    "range(5 * 5)"
   ]
  },
  {
   "cell_type": "code",
   "execution_count": 47,
   "id": "7a09d30e",
   "metadata": {},
   "outputs": [
    {
     "data": {
      "text/plain": [
       "array([[1, 1, 1],\n",
       "       [2, 2, 4],\n",
       "       [3, 3, 3]])"
      ]
     },
     "execution_count": 47,
     "metadata": {},
     "output_type": "execute_result"
    }
   ],
   "source": [
    "# Explore numpy indexing\n",
    "a = np.array([[1, 1, 1], [2, 2, 2], [3, 3, 3]])\n",
    "np.put(a, 5, 4) # a[5] = 4 하면 에러난다. 짱신기함 np.put은 신이다..\n",
    "a"
   ]
  },
  {
   "cell_type": "markdown",
   "id": "60916306",
   "metadata": {},
   "source": [
    "### 58. Subtract the mean of each row of a matrix (★★☆)\n"
   ]
  },
  {
   "cell_type": "code",
   "execution_count": 53,
   "id": "d216c150",
   "metadata": {},
   "outputs": [
    {
     "name": "stdout",
     "output_type": "stream",
     "text": [
      "[[0.50986643 0.50888022 0.91147712 0.40806335 0.64297594 0.22767765\n",
      "  0.33755217 0.7810862  0.60109967 0.54854172]\n",
      " [0.64737767 0.05172335 0.31207462 0.6089103  0.31600161 0.85003875\n",
      "  0.48368465 0.15160959 0.70339548 0.350926  ]\n",
      " [0.49028128 0.70931966 0.24695181 0.62428722 0.34049673 0.87200792\n",
      "  0.04897295 0.99173294 0.57630224 0.14450536]\n",
      " [0.46484253 0.24952328 0.32989605 0.86961983 0.06640394 0.04260178\n",
      "  0.62434605 0.05742843 0.69625975 0.97952936]\n",
      " [0.57999322 0.73553384 0.61363484 0.2173608  0.03162975 0.7897097\n",
      "  0.13535297 0.50761488 0.57962763 0.45986459]]\n",
      "[[0.54772205]\n",
      " [0.4475742 ]\n",
      " [0.50448581]\n",
      " [0.4380451 ]\n",
      " [0.46503222]]\n",
      "[[-0.03785562 -0.03884183  0.36375507 -0.1396587   0.09525389 -0.3200444\n",
      "  -0.21016987  0.23336415  0.05337762  0.00081967]\n",
      " [ 0.19980346 -0.39585085 -0.13549958  0.1613361  -0.13157259  0.40246455\n",
      "   0.03611045 -0.29596462  0.25582128 -0.0966482 ]\n",
      " [-0.01420453  0.20483385 -0.257534    0.11980141 -0.16398908  0.36752211\n",
      "  -0.45551286  0.48724713  0.07181643 -0.35998045]\n",
      " [ 0.02679743 -0.18852182 -0.10814905  0.43157473 -0.37164116 -0.39544332\n",
      "   0.18630095 -0.38061667  0.25821465  0.54148426]\n",
      " [ 0.114961    0.27050162  0.14860262 -0.24767142 -0.43340247  0.32467747\n",
      "  -0.32967925  0.04258266  0.11459541 -0.00516763]]\n"
     ]
    }
   ],
   "source": [
    "a = np.random.rand(5, 10)\n",
    "print(a)\n",
    "means = np.mean(a, axis=1, keepdims=True)\n",
    "print(means)\n",
    "print(a - means)"
   ]
  },
  {
   "cell_type": "markdown",
   "id": "983e25c2",
   "metadata": {},
   "source": [
    "### 59. How to sort an array by the nth column? (★★☆)"
   ]
  },
  {
   "cell_type": "code",
   "execution_count": 55,
   "id": "087d2ac9",
   "metadata": {
    "scrolled": true
   },
   "outputs": [
    {
     "name": "stdout",
     "output_type": "stream",
     "text": [
      "[[0.8752103  0.19329825 0.3187763  0.38283759 0.89460155 0.90089853\n",
      "  0.0303427  0.49807821 0.14482062 0.37390306]\n",
      " [0.34547784 0.87594714 0.80564934 0.38216269 0.92190276 0.16295619\n",
      "  0.85772522 0.74457912 0.52162726 0.26086726]\n",
      " [0.93554915 0.86581287 0.72976286 0.88715554 0.46914163 0.2167584\n",
      "  0.51759474 0.24180407 0.22435488 0.86523069]\n",
      " [0.95776701 0.15387996 0.31332427 0.80148625 0.67368921 0.01462879\n",
      "  0.96083822 0.63024667 0.09796474 0.13026592]\n",
      " [0.21331909 0.80740159 0.85101457 0.85714398 0.6788417  0.32848741\n",
      "  0.23719958 0.14466198 0.29344947 0.1550756 ]]\n"
     ]
    },
    {
     "data": {
      "text/plain": [
       "[array([0.93554915, 0.86581287, 0.72976286, 0.88715554, 0.46914163,\n",
       "        0.2167584 , 0.51759474, 0.24180407, 0.22435488, 0.86523069]),\n",
       " array([0.95776701, 0.15387996, 0.31332427, 0.80148625, 0.67368921,\n",
       "        0.01462879, 0.96083822, 0.63024667, 0.09796474, 0.13026592]),\n",
       " array([0.21331909, 0.80740159, 0.85101457, 0.85714398, 0.6788417 ,\n",
       "        0.32848741, 0.23719958, 0.14466198, 0.29344947, 0.1550756 ]),\n",
       " array([0.8752103 , 0.19329825, 0.3187763 , 0.38283759, 0.89460155,\n",
       "        0.90089853, 0.0303427 , 0.49807821, 0.14482062, 0.37390306]),\n",
       " array([0.34547784, 0.87594714, 0.80564934, 0.38216269, 0.92190276,\n",
       "        0.16295619, 0.85772522, 0.74457912, 0.52162726, 0.26086726])]"
      ]
     },
     "execution_count": 55,
     "metadata": {},
     "output_type": "execute_result"
    }
   ],
   "source": [
    "n = 4\n",
    "a = np.random.rand(5, 10)\n",
    "print(a)\n",
    "sorted(a, key=lambda x: x[4])"
   ]
  },
  {
   "cell_type": "markdown",
   "id": "aea45e32",
   "metadata": {},
   "source": [
    "### 60. How to tell if a given 2D array has null columns? (★★☆)\n"
   ]
  },
  {
   "cell_type": "code",
   "execution_count": 58,
   "id": "3f42eb14",
   "metadata": {},
   "outputs": [
    {
     "name": "stdout",
     "output_type": "stream",
     "text": [
      "[[0 1 0 0 2 0 2 1 0 1]\n",
      " [2 2 0 0 1 0 1 0 1 2]\n",
      " [1 1 0 2 1 1 1 2 0 0]]\n",
      "True\n"
     ]
    }
   ],
   "source": [
    "# Author: Warren Weckesser\n",
    "\n",
    "Z = np.random.randint(0,3,(3,10))\n",
    "print(Z)\n",
    "print((~Z.any(axis=0)).any())"
   ]
  },
  {
   "cell_type": "code",
   "execution_count": 59,
   "id": "eaf3378f",
   "metadata": {},
   "outputs": [
    {
     "name": "stdout",
     "output_type": "stream",
     "text": [
      "[[2 1 1 2 2 2 1 0 2 1]\n",
      " [1 2 0 1 1 1 2 2 2 2]\n",
      " [1 0 2 2 0 2 0 2 0 0]]\n",
      "False\n"
     ]
    }
   ],
   "source": [
    "# Author: Warren Weckesser\n",
    "\n",
    "Z = np.random.randint(0,3,(3,10))\n",
    "print(Z)\n",
    "print((~Z.any(axis=0)).any())"
   ]
  }
 ],
 "metadata": {
  "kernelspec": {
   "display_name": "Python 3 (ipykernel)",
   "language": "python",
   "name": "python3"
  },
  "language_info": {
   "codemirror_mode": {
    "name": "ipython",
    "version": 3
   },
   "file_extension": ".py",
   "mimetype": "text/x-python",
   "name": "python",
   "nbconvert_exporter": "python",
   "pygments_lexer": "ipython3",
   "version": "3.9.9"
  }
 },
 "nbformat": 4,
 "nbformat_minor": 5
}
