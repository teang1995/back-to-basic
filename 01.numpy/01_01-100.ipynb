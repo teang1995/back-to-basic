{
 "cells": [
  {
   "cell_type": "markdown",
   "id": "ea78ae02",
   "metadata": {},
   "source": [
    "**01. import numpy package under the name np**"
   ]
  },
  {
   "cell_type": "code",
   "execution_count": 1,
   "id": "dac30db0",
   "metadata": {},
   "outputs": [],
   "source": [
    "import numpy as np"
   ]
  },
  {
   "cell_type": "markdown",
   "id": "8bb52a31",
   "metadata": {},
   "source": [
    "**02.Print the numpy version and the configuration**"
   ]
  },
  {
   "cell_type": "code",
   "execution_count": 2,
   "id": "046c13f1",
   "metadata": {},
   "outputs": [
    {
     "data": {
      "text/plain": [
       "'1.21.0'"
      ]
     },
     "execution_count": 2,
     "metadata": {},
     "output_type": "execute_result"
    }
   ],
   "source": [
    "np.__version__"
   ]
  },
  {
   "cell_type": "markdown",
   "id": "c7a6d399",
   "metadata": {},
   "source": [
    "**03. Create a null vector of size 10**"
   ]
  },
  {
   "cell_type": "code",
   "execution_count": 3,
   "id": "9a2b3f2a",
   "metadata": {},
   "outputs": [
    {
     "data": {
      "text/plain": [
       "array([0., 0., 0., 0., 0., 0., 0., 0., 0., 0.])"
      ]
     },
     "execution_count": 3,
     "metadata": {},
     "output_type": "execute_result"
    }
   ],
   "source": [
    "a = np.zeros(10)\n",
    "a"
   ]
  },
  {
   "cell_type": "markdown",
   "id": "fc8184bc",
   "metadata": {},
   "source": [
    "**04. How to find the memory size of any array**"
   ]
  },
  {
   "cell_type": "code",
   "execution_count": 4,
   "id": "0e427c1d",
   "metadata": {},
   "outputs": [
    {
     "name": "stdout",
     "output_type": "stream",
     "text": [
      "num_items : 100\n",
      "size_items : 8\n",
      "memory_size : 800\n"
     ]
    }
   ],
   "source": [
    "a = np.zeros(100)\n",
    "num_items = a.size\n",
    "size_items = a.itemsize\n",
    "print(f'num_items : {num_items}')\n",
    "print(f'size_items : {size_items}')\n",
    "print(f'memory_size : {num_items * size_items}')"
   ]
  },
  {
   "cell_type": "markdown",
   "id": "ff70bee7",
   "metadata": {},
   "source": [
    "**05. How to get the documentation of the numpy add function from the command line?**"
   ]
  },
  {
   "cell_type": "code",
   "execution_count": 5,
   "id": "4ef6918d",
   "metadata": {},
   "outputs": [
    {
     "name": "stdout",
     "output_type": "stream",
     "text": [
      "     *** Found in numpy ***\n",
      "add(x1, x2, /, out=None, *, where=True, casting='same_kind', order='K', dtype=None, subok=True[, signature, extobj])\n",
      "\n",
      "Add arguments element-wise.\n",
      "\n",
      "Parameters\n",
      "----------\n",
      "x1, x2 : array_like\n",
      "    The arrays to be added.\n",
      "    If ``x1.shape != x2.shape``, they must be broadcastable to a common\n",
      "    shape (which becomes the shape of the output).\n",
      "out : ndarray, None, or tuple of ndarray and None, optional\n",
      "    A location into which the result is stored. If provided, it must have\n",
      "    a shape that the inputs broadcast to. If not provided or None,\n",
      "    a freshly-allocated array is returned. A tuple (possible only as a\n",
      "    keyword argument) must have length equal to the number of outputs.\n",
      "where : array_like, optional\n",
      "    This condition is broadcast over the input. At locations where the\n",
      "    condition is True, the `out` array will be set to the ufunc result.\n",
      "    Elsewhere, the `out` array will retain its original value.\n",
      "    Note that if an uninitialized `out` array is created via the default\n",
      "    ``out=None``, locations within it where the condition is False will\n",
      "    remain uninitialized.\n",
      "**kwargs\n",
      "    For other keyword-only arguments, see the\n",
      "    :ref:`ufunc docs <ufuncs.kwargs>`.\n",
      "\n",
      "Returns\n",
      "-------\n",
      "add : ndarray or scalar\n",
      "    The sum of `x1` and `x2`, element-wise.\n",
      "    This is a scalar if both `x1` and `x2` are scalars.\n",
      "\n",
      "Notes\n",
      "-----\n",
      "Equivalent to `x1` + `x2` in terms of array broadcasting.\n",
      "\n",
      "Examples\n",
      "--------\n",
      ">>> np.add(1.0, 4.0)\n",
      "5.0\n",
      ">>> x1 = np.arange(9.0).reshape((3, 3))\n",
      ">>> x2 = np.arange(3.0)\n",
      ">>> np.add(x1, x2)\n",
      "array([[  0.,   2.,   4.],\n",
      "       [  3.,   5.,   7.],\n",
      "       [  6.,   8.,  10.]])\n",
      "\n",
      "The ``+`` operator can be used as a shorthand for ``np.add`` on ndarrays.\n",
      "\n",
      ">>> x1 = np.arange(9.0).reshape((3, 3))\n",
      ">>> x2 = np.arange(3.0)\n",
      ">>> x1 + x2\n",
      "array([[ 0.,  2.,  4.],\n",
      "       [ 3.,  5.,  7.],\n",
      "       [ 6.,  8., 10.]])\n",
      "----------------------------------------------------------------------------\n",
      "\n",
      "     *** Repeat reference found in numpy.core *** \n",
      "     *** Found in numpy.core.defchararray ***\n",
      " add(x1, x2)\n",
      "\n",
      "Return element-wise string concatenation for two arrays of str or unicode.\n",
      "\n",
      "Arrays `x1` and `x2` must have the same shape.\n",
      "\n",
      "Parameters\n",
      "----------\n",
      "x1 : array_like of str or unicode\n",
      "    Input array.\n",
      "x2 : array_like of str or unicode\n",
      "    Input array.\n",
      "\n",
      "Returns\n",
      "-------\n",
      "add : ndarray\n",
      "    Output array of `string_` or `unicode_`, depending on input types\n",
      "    of the same shape as `x1` and `x2`.\n",
      "----------------------------------------------------------------------------\n",
      "     *** Found in numpy.ma ***\n",
      "add(x1, x2, /, out=None, *, where=True, casting='same_kind', order='K', dtype=None, subok=True[, signature, extobj])\n",
      "\n",
      "Add arguments element-wise.\n",
      "\n",
      "Parameters\n",
      "----------\n",
      "x1, x2 : array_like\n",
      "    The arrays to be added.\n",
      "    If ``x1.shape != x2.shape``, they must be broadcastable to a common\n",
      "    shape (which becomes the shape of the output).\n",
      "out : ndarray, None, or tuple of ndarray and None, optional\n",
      "    A location into which the result is stored. If provided, it must have\n",
      "    a shape that the inputs broadcast to. If not provided or None,\n",
      "    a freshly-allocated array is returned. A tuple (possible only as a\n",
      "    keyword argument) must have length equal to the number of outputs.\n",
      "where : array_like, optional\n",
      "    This condition is broadcast over the input. At locations where the\n",
      "    condition is True, the `out` array will be set to the ufunc result.\n",
      "    Elsewhere, the `out` array will retain its original value.\n",
      "    Note that if an uninitialized `out` array is created via the default\n",
      "    ``out=None``, locations within it where the condition is False will\n",
      "    remain uninitialized.\n",
      "**kwargs\n",
      "    For other keyword-only arguments, see the\n",
      "    :ref:`ufunc docs <ufuncs.kwargs>`.\n",
      "\n",
      "Returns\n",
      "-------\n",
      "add : ndarray or scalar\n",
      "    The sum of `x1` and `x2`, element-wise.\n",
      "    This is a scalar if both `x1` and `x2` are scalars.\n",
      "\n",
      "Notes\n",
      "-----\n",
      "Equivalent to `x1` + `x2` in terms of array broadcasting.\n",
      "\n",
      "Examples\n",
      "--------\n",
      ">>> np.add(1.0, 4.0)\n",
      "5.0\n",
      ">>> x1 = np.arange(9.0).reshape((3, 3))\n",
      ">>> x2 = np.arange(3.0)\n",
      ">>> np.add(x1, x2)\n",
      "array([[  0.,   2.,   4.],\n",
      "       [  3.,   5.,   7.],\n",
      "       [  6.,   8.,  10.]])\n",
      "\n",
      "The ``+`` operator can be used as a shorthand for ``np.add`` on ndarrays.\n",
      "\n",
      ">>> x1 = np.arange(9.0).reshape((3, 3))\n",
      ">>> x2 = np.arange(3.0)\n",
      ">>> x1 + x2\n",
      "array([[ 0.,  2.,  4.],\n",
      "       [ 3.,  5.,  7.],\n",
      "       [ 6.,  8., 10.]])\n",
      "----------------------------------------------------------------------------\n",
      "\n",
      "     *** Repeat reference found in numpy.core._multiarray_umath *** \n",
      "\n",
      "     *** Repeat reference found in numpy.core.multiarray *** \n",
      "\n",
      "     *** Repeat reference found in numpy.core.umath *** \n",
      "\n",
      "     *** Repeat reference found in numpy.core.numeric *** \n",
      "\n",
      "     *** Repeat reference found in numpy.linalg.linalg *** \n",
      "\n",
      "     *** Repeat reference found in numpy.lib.function_base *** \n",
      "\n",
      "     *** Repeat reference found in numpy.ma.core *** \n",
      "\n",
      "     *** Repeat reference found in numpy.ma.extras *** \n",
      "     *** Found in operator ***\n",
      "Same as a + b.\n",
      "----------------------------------------------------------------------------\n",
      "\n",
      "     *** Total of 13 references found. ***\n"
     ]
    }
   ],
   "source": [
    "np.info('add')"
   ]
  },
  {
   "cell_type": "markdown",
   "id": "d754c810",
   "metadata": {},
   "source": [
    "**06. Create a null vector of size 10 but the fifth value which is 1**"
   ]
  },
  {
   "cell_type": "code",
   "execution_count": 6,
   "id": "fe42bc69",
   "metadata": {},
   "outputs": [
    {
     "name": "stdout",
     "output_type": "stream",
     "text": [
      "[0. 0. 0. 0. 1. 0. 0. 0. 0. 0.]\n",
      "[0. 0. 0. 0. 1. 0. 0. 0. 0. 0.]\n"
     ]
    }
   ],
   "source": [
    "# my solution\n",
    "a = [1.0 if i == 4 else 0.0 for i in range(10)]\n",
    "a = np.array(a)\n",
    "print(a)\n",
    "# solution\n",
    "a = np.zeros(10)\n",
    "a[4] = 1\n",
    "print(a)"
   ]
  },
  {
   "cell_type": "markdown",
   "id": "5724429b",
   "metadata": {},
   "source": [
    "**07. Create a vector with value ranging from 10 to 49**"
   ]
  },
  {
   "cell_type": "code",
   "execution_count": 7,
   "id": "5c587247",
   "metadata": {},
   "outputs": [
    {
     "data": {
      "text/plain": [
       "array([10, 11, 12, 13, 14, 15, 16, 17, 18, 19, 20, 21, 22, 23, 24, 25, 26,\n",
       "       27, 28, 29, 30, 31, 32, 33, 34, 35, 36, 37, 38, 39, 40, 41, 42, 43,\n",
       "       44, 45, 46, 47, 48, 49])"
      ]
     },
     "execution_count": 7,
     "metadata": {},
     "output_type": "execute_result"
    }
   ],
   "source": [
    "a = np.arange(10, 50)\n",
    "a"
   ]
  },
  {
   "cell_type": "markdown",
   "id": "b7379155",
   "metadata": {},
   "source": [
    "**08. Reverse a vector (first element becomes last)**"
   ]
  },
  {
   "cell_type": "code",
   "execution_count": 8,
   "id": "7ca07c4b",
   "metadata": {},
   "outputs": [
    {
     "data": {
      "text/plain": [
       "array([9, 8, 7, 6, 5, 4, 3, 2, 1, 0])"
      ]
     },
     "execution_count": 8,
     "metadata": {},
     "output_type": "execute_result"
    }
   ],
   "source": [
    "a = np.arange(0, 10)\n",
    "a[::-1]"
   ]
  },
  {
   "cell_type": "markdown",
   "id": "0ddc03bd",
   "metadata": {},
   "source": [
    "**09. Create a 3x3 matrix with values ranging from 0 to 8**"
   ]
  },
  {
   "cell_type": "code",
   "execution_count": 9,
   "id": "a55c4df6",
   "metadata": {},
   "outputs": [
    {
     "data": {
      "text/plain": [
       "array([[0, 1, 2],\n",
       "       [3, 4, 5],\n",
       "       [6, 7, 8]])"
      ]
     },
     "execution_count": 9,
     "metadata": {},
     "output_type": "execute_result"
    }
   ],
   "source": [
    "a = np.arange(0, 9)\n",
    "a = a.reshape(3, -1)\n",
    "a"
   ]
  },
  {
   "cell_type": "markdown",
   "id": "632a3479",
   "metadata": {},
   "source": [
    "**10. Find indices of non-zero elements from [1, 2, 0, 0, 4, 0]**"
   ]
  },
  {
   "cell_type": "code",
   "execution_count": 10,
   "id": "0a30b2dd",
   "metadata": {},
   "outputs": [
    {
     "data": {
      "text/plain": [
       "(array([0, 1, 4]),)"
      ]
     },
     "execution_count": 10,
     "metadata": {},
     "output_type": "execute_result"
    }
   ],
   "source": [
    "a = np.array([1, 2, 0, 0, 4, 0])\n",
    "np.nonzero(a) # awesome"
   ]
  }
 ],
 "metadata": {
  "kernelspec": {
   "display_name": "Python 3 (ipykernel)",
   "language": "python",
   "name": "python3"
  },
  "language_info": {
   "codemirror_mode": {
    "name": "ipython",
    "version": 3
   },
   "file_extension": ".py",
   "mimetype": "text/x-python",
   "name": "python",
   "nbconvert_exporter": "python",
   "pygments_lexer": "ipython3",
   "version": "3.9.6"
  }
 },
 "nbformat": 4,
 "nbformat_minor": 5
}
