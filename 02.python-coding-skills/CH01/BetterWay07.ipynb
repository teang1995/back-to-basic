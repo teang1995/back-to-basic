{
 "cells": [
  {
   "cell_type": "markdown",
   "id": "e8ac26d6",
   "metadata": {},
   "source": [
    "## Better Way 07. range 보다는 enumerate를 사용하라"
   ]
  },
  {
   "cell_type": "code",
   "execution_count": 1,
   "id": "bfdce66e",
   "metadata": {},
   "outputs": [
    {
     "name": "stdout",
     "output_type": "stream",
     "text": [
      "0b11000001111011010011101000010110\n"
     ]
    }
   ],
   "source": [
    "from random import randint\n",
    "\n",
    "random_bits = 0\n",
    "for i in range(32):\n",
    "    if randint(0, 1):\n",
    "        random_bits |= 1 << i\n",
    "print(bin(random_bits))"
   ]
  },
  {
   "cell_type": "code",
   "execution_count": 2,
   "id": "6758233b",
   "metadata": {},
   "outputs": [
    {
     "name": "stdout",
     "output_type": "stream",
     "text": [
      "vanilla 맛있어요\n",
      "chocolate 맛있어요\n",
      "piccan 맛있어요\n",
      "berry 맛있어요\n"
     ]
    }
   ],
   "source": [
    "flavor_list = ['vanilla', 'chocolate', 'piccan', 'berry']\n",
    "for flavor in flavor_list:\n",
    "    print(f'{flavor} 맛있어요')"
   ]
  },
  {
   "cell_type": "code",
   "execution_count": 3,
   "id": "87418f09",
   "metadata": {},
   "outputs": [
    {
     "name": "stdout",
     "output_type": "stream",
     "text": [
      "0: vanilla 맛있어요\n",
      "1: chocolate 맛있어요\n",
      "2: piccan 맛있어요\n",
      "3: berry 맛있어요\n"
     ]
    }
   ],
   "source": [
    "for i in range(len(flavor_list)):\n",
    "    flavor = flavor_list[i]\n",
    "    print(f'{i}: {flavor} 맛있어요')"
   ]
  },
  {
   "cell_type": "markdown",
   "id": "f01d0c5c",
   "metadata": {},
   "source": [
    "뭔가 투박해보인다. 이런 문제를 해결하기 위해 **enumerate** 함수 제공\n",
    "\n",
    "enumerate 함수는 이터레이터를 lazy generator로 감싼다.\n",
    "\n",
    "###  lazy generator?\n",
    "[lazy evaluation : 지연 평가](https://wikidocs.net/22800)"
   ]
  },
  {
   "cell_type": "code",
   "execution_count": 4,
   "id": "87ed586a",
   "metadata": {},
   "outputs": [
    {
     "name": "stdout",
     "output_type": "stream",
     "text": [
      "(0, 'vanilla')\n",
      "(1, 'chocolate')\n"
     ]
    }
   ],
   "source": [
    "it = enumerate(flavor_list)\n",
    "print(next(it))\n",
    "print(next(it))"
   ]
  },
  {
   "cell_type": "markdown",
   "id": "e6177540",
   "metadata": {},
   "source": [
    "이렇게 출력되는 성질을 이용하면 아래와 같은 코드를 짤 수 있다."
   ]
  },
  {
   "cell_type": "code",
   "execution_count": 5,
   "id": "e30e81f3",
   "metadata": {},
   "outputs": [
    {
     "name": "stdout",
     "output_type": "stream",
     "text": [
      "0 : vanilla 맛있어요\n",
      "1 : chocolate 맛있어요\n",
      "2 : piccan 맛있어요\n",
      "3 : berry 맛있어요\n"
     ]
    }
   ],
   "source": [
    "for i, flavor in enumerate(flavor_list):\n",
    "    print(f'{i} : {flavor} 맛있어요')"
   ]
  }
 ],
 "metadata": {
  "kernelspec": {
   "display_name": "Python 3 (ipykernel)",
   "language": "python",
   "name": "python3"
  },
  "language_info": {
   "codemirror_mode": {
    "name": "ipython",
    "version": 3
   },
   "file_extension": ".py",
   "mimetype": "text/x-python",
   "name": "python",
   "nbconvert_exporter": "python",
   "pygments_lexer": "ipython3",
   "version": "3.9.7"
  }
 },
 "nbformat": 4,
 "nbformat_minor": 5
}
