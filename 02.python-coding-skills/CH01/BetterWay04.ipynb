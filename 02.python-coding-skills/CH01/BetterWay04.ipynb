{
 "cells": [
  {
   "cell_type": "markdown",
   "id": "853c7dc6",
   "metadata": {},
   "source": [
    "## Better Way 04. C 스타일 형식 문자열을 str.format과 쓰기보다는 f-string을 통한 인터폴레이션을 사용하라"
   ]
  },
  {
   "cell_type": "markdown",
   "id": "f4f98b1e",
   "metadata": {},
   "source": [
    "### C 스타일 format string"
   ]
  },
  {
   "cell_type": "code",
   "execution_count": 1,
   "id": "a6db4ee6",
   "metadata": {},
   "outputs": [
    {
     "name": "stdout",
     "output_type": "stream",
     "text": [
      "이진수 187, 십육진수 3167\n"
     ]
    }
   ],
   "source": [
    "a = 0b10111011\n",
    "b = 0xc5f\n",
    "print('이진수 %d, 십육진수 %d' % (a, b))"
   ]
  },
  {
   "cell_type": "markdown",
   "id": "dda1f46c",
   "metadata": {},
   "source": [
    "### C 스타일 format string의 네 가지 단점"
   ]
  },
  {
   "cell_type": "markdown",
   "id": "e2789aea",
   "metadata": {},
   "source": [
    "**1. format string에 들어가는 문자열의 순서를 계속 확인해주어야 함**  \n",
    "**2. formatting 직전에 값을 약간 변경해야 한다면 식을 읽기 어려워짐.**  \n",
    "**3. 같은 값을 여러 번 사용하려면 튜플에서 같은 값을 여러 번 반복해야 함**  \n",
    "**4. 그저.. 번잡하다!**\n",
    " \n",
    " \n",
    "이를 해결하기 위해 dictionary 구조를 도입"
   ]
  },
  {
   "cell_type": "code",
   "execution_count": 3,
   "id": "b3a9b94f",
   "metadata": {},
   "outputs": [
    {
     "name": "stdout",
     "output_type": "stream",
     "text": [
      "my_var     = 1.23\n",
      "my_var     = 1.23\n"
     ]
    }
   ],
   "source": [
    "key = 'my_var'\n",
    "value = 1.234\n",
    "\n",
    "old_way = '%-10s = %.2f' % (key, value)\n",
    "new_way = '%(key)-10s = %(value).2f' % {'value': value, 'key': key}\n",
    "\n",
    "print(old_way)\n",
    "print(new_way)"
   ]
  },
  {
   "cell_type": "markdown",
   "id": "f6fdbf05",
   "metadata": {},
   "source": [
    "이렇게 해두고 나니 코드를 볼 때마다 위에 가서 dictionary를 참고해야 함.  \n",
    "더 나은 방법이 있어야 한다...!"
   ]
  },
  {
   "cell_type": "markdown",
   "id": "3ffd6e9e",
   "metadata": {},
   "source": [
    "### 내장 함수 format과 str.format"
   ]
  },
  {
   "cell_type": "markdown",
   "id": "4ec22a71",
   "metadata": {},
   "source": [
    "**내장 함수 format**"
   ]
  },
  {
   "cell_type": "code",
   "execution_count": 7,
   "id": "b5cc0707",
   "metadata": {},
   "outputs": [
    {
     "name": "stdout",
     "output_type": "stream",
     "text": [
      "1,234.57\n",
      "*      my string       *\n"
     ]
    }
   ],
   "source": [
    "a = 1234.5678\n",
    "formatted = format(a, ',.2f')\n",
    "print(formatted)\n",
    "\n",
    "b = 'my string'\n",
    "formatted = format(b, '^20s')\n",
    "print('*', formatted, '*')"
   ]
  },
  {
   "cell_type": "markdown",
   "id": "75d7b6ed",
   "metadata": {},
   "source": [
    "**str.format**"
   ]
  },
  {
   "cell_type": "code",
   "execution_count": 8,
   "id": "25e1adcb",
   "metadata": {},
   "outputs": [
    {
     "name": "stdout",
     "output_type": "stream",
     "text": [
      "my_var = 1.234\n"
     ]
    }
   ],
   "source": [
    "key = 'my_var'\n",
    "value = 1.234\n",
    "\n",
    "formatted = '{} = {}'.format(key, value)\n",
    "print(formatted)"
   ]
  },
  {
   "cell_type": "markdown",
   "id": "7e28f4de",
   "metadata": {},
   "source": [
    "어째저째 다양한 문제들이 있는데.. 이를 해결하는 방법?"
   ]
  },
  {
   "cell_type": "markdown",
   "id": "48d75ebf",
   "metadata": {},
   "source": [
    "**f-string**"
   ]
  },
  {
   "cell_type": "code",
   "execution_count": 11,
   "id": "a0e1a358",
   "metadata": {},
   "outputs": [
    {
     "name": "stdout",
     "output_type": "stream",
     "text": [
      "my_var = 1.234\n"
     ]
    }
   ],
   "source": [
    "key = 'my_var'\n",
    "value = 1.234\n",
    "\n",
    "formatted = f'{key} = {value}'\n",
    "print(formatted)"
   ]
  },
  {
   "cell_type": "markdown",
   "id": "a593f769",
   "metadata": {},
   "source": [
    "뿐만 아니라, 중간에 파이썬 식을 포함할 수도 있다."
   ]
  },
  {
   "cell_type": "code",
   "execution_count": 14,
   "id": "41de7156",
   "metadata": {},
   "outputs": [
    {
     "name": "stdout",
     "output_type": "stream",
     "text": [
      "#1: True = 2\n"
     ]
    }
   ],
   "source": [
    "i = 0\n",
    "time = 3\n",
    "count = 2.5\n",
    "f_string = f'#{i + 1}: {time < 10} = {round(count)}'\n",
    "print(f_string)"
   ]
  },
  {
   "cell_type": "markdown",
   "id": "80035a67",
   "metadata": {},
   "source": [
    "**결론 그저 f-string이 짱이다.**"
   ]
  }
 ],
 "metadata": {
  "kernelspec": {
   "display_name": "Python 3 (ipykernel)",
   "language": "python",
   "name": "python3"
  },
  "language_info": {
   "codemirror_mode": {
    "name": "ipython",
    "version": 3
   },
   "file_extension": ".py",
   "mimetype": "text/x-python",
   "name": "python",
   "nbconvert_exporter": "python",
   "pygments_lexer": "ipython3",
   "version": "3.9.7"
  }
 },
 "nbformat": 4,
 "nbformat_minor": 5
}
