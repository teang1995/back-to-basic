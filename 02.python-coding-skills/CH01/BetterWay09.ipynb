{
 "cells": [
  {
   "cell_type": "markdown",
   "id": "b5f3a1d7",
   "metadata": {},
   "source": [
    "## Better Way 09.  For, While 루프 뒤에 else 블록을 사용하지 말라"
   ]
  },
  {
   "cell_type": "code",
   "execution_count": null,
   "id": "06339b61",
   "metadata": {},
   "outputs": [],
   "source": [
    "for i in range(3):\n",
    "    print(\"loop\", i)\n",
    "else:\n",
    "    print('else block')"
   ]
  },
  {
   "cell_type": "code",
   "execution_count": 5,
   "id": "d4126f9c",
   "metadata": {},
   "outputs": [
    {
     "name": "stdout",
     "output_type": "stream",
     "text": [
      "검사 중 2\n",
      "검사 중 3\n",
      "검사 중 4\n",
      "서로소\n"
     ]
    }
   ],
   "source": [
    "a= 4\n",
    "b = 9\n",
    "for i in  range(2, min(a, b) + 1):\n",
    "    print('검사 중', i)\n",
    "    if a % i == 0 and b % i == 0:\n",
    "        print('서로소 아님')\n",
    "        break\n",
    "else:\n",
    "    print('서로소')"
   ]
  },
  {
   "cell_type": "code",
   "execution_count": 8,
   "id": "a864b426",
   "metadata": {},
   "outputs": [],
   "source": [
    "# better way\n",
    "def coprime(a, b):\n",
    "    for i in range(2, min(a, b) + 1):\n",
    "        if a % i == 0 and b % i == 0:\n",
    "            return False\n",
    "    return True"
   ]
  },
  {
   "cell_type": "code",
   "execution_count": 9,
   "id": "c1f6edfb",
   "metadata": {},
   "outputs": [
    {
     "data": {
      "text/plain": [
       "True"
      ]
     },
     "execution_count": 9,
     "metadata": {},
     "output_type": "execute_result"
    }
   ],
   "source": [
    "result = coprime(4, 9)\n",
    "result"
   ]
  },
  {
   "cell_type": "code",
   "execution_count": 10,
   "id": "74b36bc5",
   "metadata": {},
   "outputs": [],
   "source": [
    "# better way\n",
    "def coprime_alternate(a, b):\n",
    "    is_coprime = True\n",
    "    for i in range(2, min(a, b) + 1):\n",
    "        if a % i == 0 and b % i == 0:\n",
    "            is_coprime = False\n",
    "            break\n",
    "    return is_coprime"
   ]
  },
  {
   "cell_type": "code",
   "execution_count": 11,
   "id": "b703f351",
   "metadata": {},
   "outputs": [
    {
     "data": {
      "text/plain": [
       "True"
      ]
     },
     "execution_count": 11,
     "metadata": {},
     "output_type": "execute_result"
    }
   ],
   "source": [
    "result = coprime_alternate(4, 9)\n",
    "result"
   ]
  }
 ],
 "metadata": {
  "kernelspec": {
   "display_name": "Python 3 (ipykernel)",
   "language": "python",
   "name": "python3"
  },
  "language_info": {
   "codemirror_mode": {
    "name": "ipython",
    "version": 3
   },
   "file_extension": ".py",
   "mimetype": "text/x-python",
   "name": "python",
   "nbconvert_exporter": "python",
   "pygments_lexer": "ipython3",
   "version": "3.9.7"
  }
 },
 "nbformat": 4,
 "nbformat_minor": 5
}
