{
 "cells": [
  {
   "cell_type": "markdown",
   "id": "15b42b27",
   "metadata": {},
   "source": [
    "## Better Way 06. 인덱스를 사용하는 대신 대입을 사용해 데이터를 언패킹하라"
   ]
  },
  {
   "cell_type": "code",
   "execution_count": 1,
   "id": "8267571a",
   "metadata": {},
   "outputs": [],
   "source": [
    "snack_calories = {\n",
    "    '감자칩': 140,\n",
    "    '팝콘': 80,\n",
    "    '땅콩': 190,\n",
    "}"
   ]
  },
  {
   "cell_type": "code",
   "execution_count": 2,
   "id": "e1bac8a7",
   "metadata": {},
   "outputs": [
    {
     "data": {
      "text/plain": [
       "(('감자칩', 140), ('팝콘', 80), ('땅콩', 190))"
      ]
     },
     "execution_count": 2,
     "metadata": {},
     "output_type": "execute_result"
    }
   ],
   "source": [
    "items = tuple(snack_calories.items())\n",
    "items"
   ]
  },
  {
   "cell_type": "code",
   "execution_count": 3,
   "id": "6ca632f4",
   "metadata": {},
   "outputs": [
    {
     "name": "stdout",
     "output_type": "stream",
     "text": [
      "호박엿 식혜\n"
     ]
    }
   ],
   "source": [
    "item = ('호박엿', '식혜')\n",
    "first = item[0]\n",
    "second = item[1]\n",
    "print(first, second)"
   ]
  },
  {
   "cell_type": "code",
   "execution_count": 4,
   "id": "08d536f3",
   "metadata": {},
   "outputs": [
    {
     "data": {
      "text/plain": [
       "'약과'"
      ]
     },
     "execution_count": 4,
     "metadata": {},
     "output_type": "execute_result"
    }
   ],
   "source": [
    "pair = ('약과', '호박엿')\n",
    "pair[0]"
   ]
  },
  {
   "cell_type": "code",
   "execution_count": 5,
   "id": "f63d9ac4",
   "metadata": {},
   "outputs": [
    {
     "ename": "TypeError",
     "evalue": "'tuple' object does not support item assignment",
     "output_type": "error",
     "traceback": [
      "\u001b[1;31m---------------------------------------------------------------------------\u001b[0m",
      "\u001b[1;31mTypeError\u001b[0m                                 Traceback (most recent call last)",
      "\u001b[1;32m~\\AppData\\Local\\Temp/ipykernel_18972/572607896.py\u001b[0m in \u001b[0;36m<module>\u001b[1;34m\u001b[0m\n\u001b[0;32m      1\u001b[0m \u001b[1;31m# 튜플은 만들어진 뒤 그 값을 변경할 수는 없다.\u001b[0m\u001b[1;33m\u001b[0m\u001b[1;33m\u001b[0m\u001b[0m\n\u001b[1;32m----> 2\u001b[1;33m \u001b[0mpair\u001b[0m\u001b[1;33m[\u001b[0m\u001b[1;36m0\u001b[0m\u001b[1;33m]\u001b[0m \u001b[1;33m=\u001b[0m \u001b[1;34m'타래과'\u001b[0m\u001b[1;33m\u001b[0m\u001b[1;33m\u001b[0m\u001b[0m\n\u001b[0m",
      "\u001b[1;31mTypeError\u001b[0m: 'tuple' object does not support item assignment"
     ]
    }
   ],
   "source": [
    "# 튜플은 만들어진 뒤 그 값을 변경할 수는 없다.\n",
    "pair[0] = '타래과'"
   ]
  },
  {
   "cell_type": "markdown",
   "id": "215a4244",
   "metadata": {},
   "source": [
    "**언패킹**"
   ]
  },
  {
   "cell_type": "code",
   "execution_count": 6,
   "id": "2dc7866d",
   "metadata": {},
   "outputs": [
    {
     "name": "stdout",
     "output_type": "stream",
     "text": [
      "호박엿 식혜\n"
     ]
    }
   ],
   "source": [
    "item = ('호박엿', '식혜')\n",
    "first, second = item\n",
    "print(first, second)"
   ]
  },
  {
   "cell_type": "markdown",
   "id": "b5ca675c",
   "metadata": {},
   "source": [
    "**temp 없이 swap 사용하기**"
   ]
  },
  {
   "cell_type": "code",
   "execution_count": 7,
   "id": "32ef2660",
   "metadata": {},
   "outputs": [
    {
     "name": "stdout",
     "output_type": "stream",
     "text": [
      "2 3\n"
     ]
    }
   ],
   "source": [
    "a = 3\n",
    "b = 2\n",
    "a, b = b, a\n",
    "print(a, b)"
   ]
  },
  {
   "cell_type": "code",
   "execution_count": 9,
   "id": "a90bbecd",
   "metadata": {},
   "outputs": [],
   "source": [
    "snacks = [('bacon', 350), ('dounut', 240), ('muffine', 190)]"
   ]
  },
  {
   "cell_type": "code",
   "execution_count": 11,
   "id": "bd0463f3",
   "metadata": {},
   "outputs": [
    {
     "name": "stdout",
     "output_type": "stream",
     "text": [
      "bacon 350\n",
      "dounut 240\n",
      "muffine 190\n"
     ]
    }
   ],
   "source": [
    "# noisy way\n",
    "for i in range(len(snack_calories)):\n",
    "    item = snacks[i]\n",
    "    name = item[0]\n",
    "    calories = item[1]\n",
    "    \n",
    "    print(name, calories)"
   ]
  },
  {
   "cell_type": "code",
   "execution_count": 12,
   "id": "87dd8018",
   "metadata": {},
   "outputs": [
    {
     "name": "stdout",
     "output_type": "stream",
     "text": [
      "1 bacon 350\n",
      "2 dounut 240\n",
      "3 muffine 190\n"
     ]
    }
   ],
   "source": [
    "# Better Way\n",
    "\n",
    "for rank, (name, calories) in enumerate(snacks, 1):\n",
    "    print(rank, name, calories)"
   ]
  }
 ],
 "metadata": {
  "kernelspec": {
   "display_name": "Python 3 (ipykernel)",
   "language": "python",
   "name": "python3"
  },
  "language_info": {
   "codemirror_mode": {
    "name": "ipython",
    "version": 3
   },
   "file_extension": ".py",
   "mimetype": "text/x-python",
   "name": "python",
   "nbconvert_exporter": "python",
   "pygments_lexer": "ipython3",
   "version": "3.9.7"
  }
 },
 "nbformat": 4,
 "nbformat_minor": 5
}
