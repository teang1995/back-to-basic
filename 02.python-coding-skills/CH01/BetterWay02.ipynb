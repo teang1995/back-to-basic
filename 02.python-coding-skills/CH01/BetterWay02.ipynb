{
 "cells": [
  {
   "cell_type": "markdown",
   "id": "7865de8a",
   "metadata": {},
   "source": [
    "## Better Way 02. PEP8 스타일 가이드를 따르라"
   ]
  },
  {
   "cell_type": "markdown",
   "id": "6847da14",
   "metadata": {},
   "source": [
    "### 1. 공백\n",
    "\n",
    "- 탭 대신 스페이스를 사용한 들여쓰기\n",
    "- 문법적으로 중요한 들여쓰기엔 4칸의 스페이스\n",
    "- 한 줄의 길이는 79개 문자 이하\n",
    "- 긴 식을 다음 줄에 이어 쓴다면 4 스페이스 더 들여 써야 함\n",
    "- **파일 안에서 함수와 클래스 사이에는 두 개의 빈 줄** \n",
    "- 클래스 안에서 메서드 간에는 하나의 빈 줄\n",
    "```python\n",
    "class foo:\n",
    "    \n",
    "    \n",
    "    def func():\n",
    "        pass\n",
    "    \n",
    "    def func2():\n",
    "        pass\n",
    "```\n",
    "\n",
    "- 딕셔너리에서 키와 콜론 사이에는 공백을 넣지 않음. 한 줄 안에 키와 값을 같이 넣는다면 콜론 다음에 하나의 스페이스\n",
    "\n",
    "```\n",
    "a = {'key': value}\n",
    "```\n",
    "\n",
    "- 변수 대입 시 `=` 전후에 스페이스 하나씩\n",
    "\n",
    "```\n",
    "a = 3\n",
    "```\n",
    "\n",
    "- 타입 힌트를 넣는 경우 변수 이름과 콜론 사이에 공백 넣지 않도록 주의. 콜론과 타입 정보 사이에는 하나의 스페이스\n",
    "\n",
    "```python\n",
    "def func(foo: some_type):\n",
    "    pass\n",
    "```"
   ]
  },
  {
   "cell_type": "markdown",
   "id": "ff3c2a28",
   "metadata": {},
   "source": [
    "### 2. 명명 규약\n",
    "- 함수, 변수, attribute는 `snake_type` 이용.\n",
    "- 보호돼야 하는 attribute는 일반적인 규칙을 따르지만, 밑줄로 시작\n",
    "`._protected_attribute`\n",
    "- 클래스 내부에서만 쓰이는 attribute는 일반적 규칙을 따르지만 두 개의 밑 줄로 시작 `__protected_inclass_attribute`\n",
    "- 클래스는 `CamelType`을 사용. 단어의 첫 글자를 대문자로."
   ]
  },
  {
   "cell_type": "markdown",
   "id": "8ec14813",
   "metadata": {},
   "source": [
    "### 3. 식과 문\n",
    "- 긍정적인 식을 부종하지 말고 부정을 내부에 넣어라.\n",
    "```python\n",
    "if not a is b # not recommended\n",
    "if a is not b # recommended\n",
    "```\n",
    "\n",
    "- 빈 컨테이너, iterable instance를 검사할 땐 길이를 0과 비교하지 말 것.\n",
    "```python\n",
    "# not recommended\n",
    "a = []\n",
    "if len(a) == 0:\n",
    "    pass\n",
    "```\n",
    "```python\n",
    "# recommended\n",
    "if a:\n",
    "    pass\n",
    "else:\n",
    "    pass\n",
    "```\n"
   ]
  },
  {
   "cell_type": "markdown",
   "id": "09b033c0",
   "metadata": {},
   "source": [
    "### 4. Import\n",
    "\n",
    "- import문을 항상 파일 맨 앞에 위치시킬 것.\n",
    "```python\n",
    "# recommended\n",
    "import x\n",
    "code\n",
    "```\n",
    "```python\n",
    "# not recommended\n",
    "code\n",
    "import x\n",
    "```\n",
    "\n",
    "- 모듈 import 시 absolute name 사용하고, relative name 사용하지 말 것.\n",
    "```python\n",
    "# recommended\n",
    "from bar import foo\n",
    "```\n",
    "```python\n",
    "# not recommended\n",
    "import foo\n",
    "```\n",
    "\n",
    "- 반드시 상대 경로로 import 해야 한다면 `from . import foo` 와 같이 명시적인 구문 이용할 것.\n",
    "- import 적을 때는 표준 라이브러리 모듈, 서드 파티 모듈, 커스텀 모듈 순으로 섹션을 나누어 적을 것. 각 섹션에서는 알파벳 순서로.\n",
    "```python\n",
    "# Example\n",
    "# standard module\n",
    "import os\n",
    "import sys\n",
    "```\n",
    "```python\n",
    "# ThirdParty module\n",
    "import torch\n",
    "from torch import cuda\n",
    "```\n",
    "```python\n",
    "# Custom module\n",
    "from bar import foo\n",
    "```"
   ]
  }
 ],
 "metadata": {
  "kernelspec": {
   "display_name": "Python 3 (ipykernel)",
   "language": "python",
   "name": "python3"
  },
  "language_info": {
   "codemirror_mode": {
    "name": "ipython",
    "version": 3
   },
   "file_extension": ".py",
   "mimetype": "text/x-python",
   "name": "python",
   "nbconvert_exporter": "python",
   "pygments_lexer": "ipython3",
   "version": "3.9.9"
  }
 },
 "nbformat": 4,
 "nbformat_minor": 5
}
