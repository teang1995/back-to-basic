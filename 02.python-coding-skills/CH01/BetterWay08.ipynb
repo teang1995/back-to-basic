{
 "cells": [
  {
   "cell_type": "markdown",
   "id": "81f3c781",
   "metadata": {},
   "source": [
    "## Better Way 08.  여러 데이터에 대해 나란이 루프를 수행하려면 zip을 사용하여라"
   ]
  },
  {
   "cell_type": "code",
   "execution_count": 1,
   "id": "c01be5fb",
   "metadata": {},
   "outputs": [
    {
     "name": "stdout",
     "output_type": "stream",
     "text": [
      "[6, 10, 6]\n"
     ]
    }
   ],
   "source": [
    "names = [\"fadfsa\", \"ffdsafdasd\", \"fdafds\"]\n",
    "\n",
    "counts = [len(n) for n in names]\n",
    "print(counts)"
   ]
  },
  {
   "cell_type": "code",
   "execution_count": 2,
   "id": "330957e6",
   "metadata": {},
   "outputs": [
    {
     "name": "stdout",
     "output_type": "stream",
     "text": [
      "ffdsafdasd\n"
     ]
    }
   ],
   "source": [
    "# very noisy way\n",
    "\n",
    "longest_name = None\n",
    "max_count = 0\n",
    "\n",
    "for i in range(len(names)):\n",
    "    count = counts[i]\n",
    "    if count > max_count:\n",
    "        longest_name = names[i]\n",
    "        max_count = count\n",
    "        \n",
    "print(longest_name)"
   ]
  },
  {
   "cell_type": "code",
   "execution_count": 3,
   "id": "32cff66b",
   "metadata": {},
   "outputs": [
    {
     "name": "stdout",
     "output_type": "stream",
     "text": [
      "ffdsafdasd\n"
     ]
    }
   ],
   "source": [
    "# noisy way\n",
    "\n",
    "longest_name = None\n",
    "max_count = 0\n",
    "\n",
    "for i, name in enumerate(names):\n",
    "    count = counts[i]\n",
    "    if count > max_count:\n",
    "        longest_name = name\n",
    "        max_count = count\n",
    "        \n",
    "print(longest_name)"
   ]
  },
  {
   "cell_type": "code",
   "execution_count": 4,
   "id": "b4d9e7cf",
   "metadata": {},
   "outputs": [
    {
     "name": "stdout",
     "output_type": "stream",
     "text": [
      "ffdsafdasd\n"
     ]
    }
   ],
   "source": [
    "# better way\n",
    "\n",
    "longest_name = None\n",
    "max_count = 0\n",
    "\n",
    "for name, count in zip(names, counts):\n",
    "    if count > max_count:\n",
    "        longest_name = name\n",
    "        max_count = count\n",
    "        \n",
    "print(longest_name)"
   ]
  },
  {
   "cell_type": "code",
   "execution_count": 5,
   "id": "706b2794",
   "metadata": {
    "scrolled": true
   },
   "outputs": [
    {
     "name": "stdout",
     "output_type": "stream",
     "text": [
      "1 1\n",
      "2 2\n",
      "3 3\n",
      "4 4\n",
      "5 5\n"
     ]
    }
   ],
   "source": [
    "arr1 = [1, 2, 3, 4, 5]\n",
    "arr2 = [1, 2, 3, 4, 5, 6]\n",
    "\n",
    "for n1, n2 in zip(arr1, arr2):\n",
    "    print(n1, n2)"
   ]
  },
  {
   "cell_type": "markdown",
   "id": "9a8d8377",
   "metadata": {},
   "source": [
    "**zip은 자신이 감싼 이터레이터 중 하나가 끝날 때까지 튜플을 내놓는다. 출력 횟수는 가장 짭은 입력의 길이와 같다.**\n",
    "\n",
    "만약 긴 쪽에 맞추고 싶다면, `itertools`의 `zip_longest`을 사용하자"
   ]
  },
  {
   "cell_type": "code",
   "execution_count": 6,
   "id": "ceb15bc9",
   "metadata": {},
   "outputs": [
    {
     "name": "stdout",
     "output_type": "stream",
     "text": [
      "1 1\n",
      "2 2\n",
      "3 3\n",
      "4 4\n",
      "5 5\n",
      "None 6\n"
     ]
    }
   ],
   "source": [
    "from itertools import zip_longest\n",
    "\n",
    "arr1 = [1, 2, 3, 4, 5]\n",
    "arr2 = [1, 2, 3, 4, 5, 6]\n",
    "\n",
    "for n1, n2 in zip_longest(arr1, arr2):\n",
    "    print(n1, n2)"
   ]
  },
  {
   "cell_type": "markdown",
   "id": "081ee1ba",
   "metadata": {},
   "source": [
    "**fillvalue는 기본값이 None인데, 다른 값으로 채우고 싶다면 zip_longest에 `fillvalue` 인자로 주도록 하자.**"
   ]
  },
  {
   "cell_type": "code",
   "execution_count": 7,
   "id": "71c51f67",
   "metadata": {},
   "outputs": [
    {
     "name": "stdout",
     "output_type": "stream",
     "text": [
      "1 1\n",
      "2 2\n",
      "3 3\n",
      "4 4\n",
      "5 5\n",
      "- 6\n"
     ]
    }
   ],
   "source": [
    "from itertools import zip_longest\n",
    "\n",
    "arr1 = [1, 2, 3, 4, 5]\n",
    "arr2 = [1, 2, 3, 4, 5, 6]\n",
    "\n",
    "for n1, n2 in zip_longest(arr1, arr2, fillvalue=\"-\"):\n",
    "    print(n1, n2)"
   ]
  }
 ],
 "metadata": {
  "kernelspec": {
   "display_name": "Python 3 (ipykernel)",
   "language": "python",
   "name": "python3"
  },
  "language_info": {
   "codemirror_mode": {
    "name": "ipython",
    "version": 3
   },
   "file_extension": ".py",
   "mimetype": "text/x-python",
   "name": "python",
   "nbconvert_exporter": "python",
   "pygments_lexer": "ipython3",
   "version": "3.9.7"
  }
 },
 "nbformat": 4,
 "nbformat_minor": 5
}
