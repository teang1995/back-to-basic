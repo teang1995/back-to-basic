{
 "cells": [
  {
   "cell_type": "markdown",
   "id": "78d6e818",
   "metadata": {},
   "source": [
    "## Better Way 15. 딕셔너리 삽입 순서에 의존할 때는 조심하라"
   ]
  },
  {
   "cell_type": "markdown",
   "id": "cb62fb68",
   "metadata": {},
   "source": [
    "**기억해야 할 내용**\n",
    "- 파이썬 3.7부터는 dict인스턴스의 내용을 이터레이션 할 때 키를 삽입한 순서대로 돌려받을 수 있음.\n",
    "- 파이썬은 dict와 **유사한 구조의 객체**를 쉽게 만들 수 있는데, 이는 키 삽입 순서가 보존되지 않음.\n",
    "- 이러한 경우 코드 실행 시점에 dict 타입을 검사하거나, 타입 이터레이션과 정적 분석을 사용해 dict값을 사용하는 법 등이 있음."
   ]
  }
 ],
 "metadata": {
  "kernelspec": {
   "display_name": "Python 3 (ipykernel)",
   "language": "python",
   "name": "python3"
  },
  "language_info": {
   "codemirror_mode": {
    "name": "ipython",
    "version": 3
   },
   "file_extension": ".py",
   "mimetype": "text/x-python",
   "name": "python",
   "nbconvert_exporter": "python",
   "pygments_lexer": "ipython3",
   "version": "3.9.7"
  }
 },
 "nbformat": 4,
 "nbformat_minor": 5
}
