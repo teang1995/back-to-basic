{
 "cells": [
  {
   "cell_type": "markdown",
   "id": "6d36c149",
   "metadata": {},
   "source": [
    "## Better Way 14. 복잡한 기준을 사용해 정렬할 때는 key 파라미터를 사용하라"
   ]
  },
  {
   "cell_type": "code",
   "execution_count": 3,
   "id": "218881df",
   "metadata": {},
   "outputs": [
    {
     "data": {
      "text/plain": [
       "[11, 68, 70, 86, 93]"
      ]
     },
     "execution_count": 3,
     "metadata": {},
     "output_type": "execute_result"
    }
   ],
   "source": [
    "# sort() works\n",
    "numbers = [93, 86, 11, 68, 70]\n",
    "numbers.sort()\n",
    "numbers"
   ]
  },
  {
   "cell_type": "code",
   "execution_count": 16,
   "id": "e9404183",
   "metadata": {},
   "outputs": [
    {
     "ename": "TypeError",
     "evalue": "'<' not supported between instances of 'Tool' and 'Tool'",
     "output_type": "error",
     "traceback": [
      "\u001b[1;31m---------------------------------------------------------------------------\u001b[0m",
      "\u001b[1;31mTypeError\u001b[0m                                 Traceback (most recent call last)",
      "\u001b[1;32m~\\AppData\\Local\\Temp/ipykernel_36304/1150945334.py\u001b[0m in \u001b[0;36m<module>\u001b[1;34m\u001b[0m\n\u001b[0;32m     17\u001b[0m ]\n\u001b[0;32m     18\u001b[0m \u001b[1;33m\u001b[0m\u001b[0m\n\u001b[1;32m---> 19\u001b[1;33m \u001b[0mtools\u001b[0m\u001b[1;33m.\u001b[0m\u001b[0msort\u001b[0m\u001b[1;33m(\u001b[0m\u001b[1;33m)\u001b[0m\u001b[1;33m\u001b[0m\u001b[1;33m\u001b[0m\u001b[0m\n\u001b[0m",
      "\u001b[1;31mTypeError\u001b[0m: '<' not supported between instances of 'Tool' and 'Tool'"
     ]
    }
   ],
   "source": [
    "# sort not works\n",
    "class Tool:\n",
    "    def __init__(self, name, weight):\n",
    "        self.name = name\n",
    "        self.weight = weight\n",
    "        \n",
    "    def __repr__(self):\n",
    "        return f'Tool({self.name}, {self.weight})'\n",
    "    \n",
    "tools = [\n",
    "    Tool('a', 3.5),\n",
    "    Tool('b', 1.25),\n",
    "    Tool('c', 0.5),\n",
    "    Tool('d', 0.25),\n",
    "    Tool('e', 0.5),\n",
    "    Tool('f', 1.25)\n",
    "]\n",
    "\n",
    "tools.sort()"
   ]
  },
  {
   "cell_type": "code",
   "execution_count": 9,
   "id": "ae1ab747",
   "metadata": {
    "scrolled": true
   },
   "outputs": [
    {
     "name": "stdout",
     "output_type": "stream",
     "text": [
      "미정렬 [Tool(a, 3.5), Tool(b, 1.25), Tool(c, 0.5), Tool(d, 0.25)]\n",
      "정렬 [Tool(a, 3.5), Tool(b, 1.25), Tool(c, 0.5), Tool(d, 0.25)]\n"
     ]
    }
   ],
   "source": [
    "print('미정렬', repr(tools))\n",
    "tools.sort(key=lambda x: x.name)\n",
    "print('정렬', repr(tools))"
   ]
  },
  {
   "cell_type": "code",
   "execution_count": 13,
   "id": "d9211334",
   "metadata": {},
   "outputs": [
    {
     "name": "stdout",
     "output_type": "stream",
     "text": [
      "['New York', 'Paris', 'home', 'work']\n",
      "['home', 'New York', 'Paris', 'work']\n"
     ]
    }
   ],
   "source": [
    "places = ['home', 'work', 'New York', 'Paris']\n",
    "places.sort()\n",
    "print(places)\n",
    "places.sort(key=lambda x: x.lower())\n",
    "print(places)"
   ]
  },
  {
   "cell_type": "code",
   "execution_count": 17,
   "id": "6a7f3976",
   "metadata": {
    "scrolled": true
   },
   "outputs": [
    {
     "data": {
      "text/plain": [
       "[Tool(d, 0.25),\n",
       " Tool(c, 0.5),\n",
       " Tool(e, 0.5),\n",
       " Tool(b, 1.25),\n",
       " Tool(f, 1.25),\n",
       " Tool(a, 3.5)]"
      ]
     },
     "execution_count": 17,
     "metadata": {},
     "output_type": "execute_result"
    }
   ],
   "source": [
    "tools.sort(key=lambda x: (x.weight, x.name))\n",
    "tools"
   ]
  },
  {
   "cell_type": "code",
   "execution_count": 18,
   "id": "2aa222fa",
   "metadata": {},
   "outputs": [
    {
     "data": {
      "text/plain": [
       "[Tool(a, 3.5),\n",
       " Tool(b, 1.25),\n",
       " Tool(f, 1.25),\n",
       " Tool(c, 0.5),\n",
       " Tool(e, 0.5),\n",
       " Tool(d, 0.25)]"
      ]
     },
     "execution_count": 18,
     "metadata": {},
     "output_type": "execute_result"
    }
   ],
   "source": [
    "# stable_sort?\n",
    "# weight : 내림차순, name : 오름차순    \n",
    "# 우선순위가 weight인데, 우선순위의 역순으로 정렬을 진행해야 함.\n",
    "tools = [\n",
    "    Tool('a', 3.5),\n",
    "    Tool('b', 1.25),\n",
    "    Tool('c', 0.5),\n",
    "    Tool('d', 0.25),\n",
    "    Tool('e', 0.5),\n",
    "    Tool('f', 1.25)\n",
    "]\n",
    "\n",
    "tools.sort(key=lambda x: x.name)\n",
    "tools.sort(key=lambda x: x.weight,\n",
    "           reverse=True)\n",
    "tools"
   ]
  }
 ],
 "metadata": {
  "kernelspec": {
   "display_name": "Python 3 (ipykernel)",
   "language": "python",
   "name": "python3"
  },
  "language_info": {
   "codemirror_mode": {
    "name": "ipython",
    "version": 3
   },
   "file_extension": ".py",
   "mimetype": "text/x-python",
   "name": "python",
   "nbconvert_exporter": "python",
   "pygments_lexer": "ipython3",
   "version": "3.9.7"
  }
 },
 "nbformat": 4,
 "nbformat_minor": 5
}
