{
 "cells": [
  {
   "cell_type": "markdown",
   "id": "9588401a",
   "metadata": {},
   "source": [
    "## Better Way 17. 내부 상태에서 원소가 없는 경우를 처리할 때에는 defaultdict를 사용하라"
   ]
  },
  {
   "cell_type": "code",
   "execution_count": 3,
   "id": "3e7b67f1",
   "metadata": {},
   "outputs": [],
   "source": [
    "visits = {\n",
    "    '미국': {'뉴욕', '로스엔젤러스'},\n",
    "    '일본': {'하코네'}\n",
    "}"
   ]
  },
  {
   "cell_type": "code",
   "execution_count": 4,
   "id": "8cfb1ae6",
   "metadata": {
    "scrolled": true
   },
   "outputs": [
    {
     "data": {
      "text/plain": [
       "{'미국': {'뉴욕', '로스엔젤러스'}, '일본': {'하코네'}, '프랑스': {'칸'}}"
      ]
     },
     "execution_count": 4,
     "metadata": {},
     "output_type": "execute_result"
    }
   ],
   "source": [
    "# noisy way\n",
    "visits.setdefault('프랑스', set()).add('칸')\n",
    "visits"
   ]
  },
  {
   "cell_type": "code",
   "execution_count": 5,
   "id": "7b810dd2",
   "metadata": {},
   "outputs": [],
   "source": [
    "visits = {\n",
    "    '미국': {'뉴욕', '로스엔젤러스'},\n",
    "    '일본': {'하코네'}\n",
    "}"
   ]
  },
  {
   "cell_type": "code",
   "execution_count": 6,
   "id": "a7799a4e",
   "metadata": {},
   "outputs": [
    {
     "data": {
      "text/plain": [
       "{'미국': {'뉴욕', '로스엔젤러스'}, '일본': {'교토', '하코네'}}"
      ]
     },
     "execution_count": 6,
     "metadata": {},
     "output_type": "execute_result"
    }
   ],
   "source": [
    "# noisy way 2\n",
    "\n",
    "if (japan := visits.get('일본')) is None:\n",
    "    visits['일본'] = japan = set()\n",
    "japan.add('교토')\n",
    "visits"
   ]
  },
  {
   "cell_type": "code",
   "execution_count": 9,
   "id": "5e12d6b4",
   "metadata": {},
   "outputs": [
    {
     "data": {
      "text/plain": [
       "defaultdict(set, {'일본': {'도쿄', '오사카'}})"
      ]
     },
     "execution_count": 9,
     "metadata": {},
     "output_type": "execute_result"
    }
   ],
   "source": [
    "# better way\n",
    "visits = {\n",
    "    '미국': {'뉴욕', '로스엔젤러스'},\n",
    "    '일본': {'하코네'}\n",
    "}\n",
    "\n",
    "from collections import defaultdict\n",
    "data = defaultdict(set)\n",
    "\n",
    "country = '일본'\n",
    "cities = ['도쿄', '오사카']\n",
    "for city in cities:\n",
    "    data[country].add(city)\n",
    "    \n",
    "data\n"
   ]
  }
 ],
 "metadata": {
  "kernelspec": {
   "display_name": "Python 3 (ipykernel)",
   "language": "python",
   "name": "python3"
  },
  "language_info": {
   "codemirror_mode": {
    "name": "ipython",
    "version": 3
   },
   "file_extension": ".py",
   "mimetype": "text/x-python",
   "name": "python",
   "nbconvert_exporter": "python",
   "pygments_lexer": "ipython3",
   "version": "3.9.7"
  }
 },
 "nbformat": 4,
 "nbformat_minor": 5
}
