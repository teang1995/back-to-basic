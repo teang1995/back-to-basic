{
 "cells": [
  {
   "cell_type": "markdown",
   "id": "86d9da9b",
   "metadata": {},
   "source": [
    "## Better Way 16. in을 사용하고 딕셔너리 키가 없을 때 KeyError를 처리하기보다는 get을 사용하라"
   ]
  },
  {
   "cell_type": "code",
   "execution_count": 1,
   "id": "521070e4",
   "metadata": {},
   "outputs": [],
   "source": [
    "counters = {\n",
    "    'a': 2,\n",
    "    'b': 1\n",
    "}"
   ]
  },
  {
   "cell_type": "markdown",
   "id": "990f88e7",
   "metadata": {},
   "source": [
    "**투표가 일어날 때 카운터를 증가시키려면 먼저 키가 딕셔너리에 존재하는지 살펴야 함**"
   ]
  },
  {
   "cell_type": "code",
   "execution_count": 2,
   "id": "7b1831fe",
   "metadata": {},
   "outputs": [],
   "source": [
    "# noisy way with 'in'\n",
    "key = 'c'\n",
    "\n",
    "if key in counters:\n",
    "    count = counters[key]\n",
    "else:\n",
    "    count = 0\n",
    "    \n",
    "counters[key] = count + 1"
   ]
  },
  {
   "cell_type": "code",
   "execution_count": 3,
   "id": "9e31da08",
   "metadata": {
    "scrolled": true
   },
   "outputs": [
    {
     "data": {
      "text/plain": [
       "{'a': 2, 'b': 1, 'c': 1}"
      ]
     },
     "execution_count": 3,
     "metadata": {},
     "output_type": "execute_result"
    }
   ],
   "source": [
    "counters"
   ]
  },
  {
   "cell_type": "code",
   "execution_count": 4,
   "id": "ea69d448",
   "metadata": {},
   "outputs": [],
   "source": [
    "counters = {\n",
    "    'a': 2,\n",
    "    'b': 1\n",
    "}"
   ]
  },
  {
   "cell_type": "code",
   "execution_count": 5,
   "id": "aeb832ab",
   "metadata": {},
   "outputs": [],
   "source": [
    "# better way with 'get'\n",
    "\n",
    "count = counters.get(key, 0)\n",
    "counters[key] = count + 1"
   ]
  },
  {
   "cell_type": "code",
   "execution_count": 6,
   "id": "8f1f1c50",
   "metadata": {},
   "outputs": [
    {
     "data": {
      "text/plain": [
       "{'a': 2, 'b': 1, 'c': 1}"
      ]
     },
     "execution_count": 6,
     "metadata": {},
     "output_type": "execute_result"
    }
   ],
   "source": [
    "counters"
   ]
  },
  {
   "cell_type": "markdown",
   "id": "c758e8ee",
   "metadata": {},
   "source": [
    "**딕셔너리에 저장된 값이 리스트처럼 복잡한 값이라면 어떻게 해야 할까?**"
   ]
  },
  {
   "cell_type": "code",
   "execution_count": 7,
   "id": "ed31acf0",
   "metadata": {},
   "outputs": [],
   "source": [
    "votes = {\n",
    "    '바게트': ['철수', '순이'],\n",
    "    '치아바타': ['하니', '유리']\n",
    "}\n",
    "\n",
    "key = '브리오슈'\n",
    "who = '단이'"
   ]
  },
  {
   "cell_type": "code",
   "execution_count": 8,
   "id": "70ca3468",
   "metadata": {},
   "outputs": [
    {
     "name": "stdout",
     "output_type": "stream",
     "text": [
      "{'바게트': ['철수', '순이'], '치아바타': ['하니', '유리'], '브리오슈': ['단이']}\n"
     ]
    }
   ],
   "source": [
    "# noisy way 1\n",
    "\n",
    "if key in votes:\n",
    "    names = votes[key]\n",
    "else:\n",
    "    votes[key] = names = []\n",
    "    \n",
    "names.append(who)\n",
    "print(votes)"
   ]
  },
  {
   "cell_type": "code",
   "execution_count": 9,
   "id": "1292fff9",
   "metadata": {},
   "outputs": [],
   "source": [
    "votes = {\n",
    "    '바게트': ['철수', '순이'],\n",
    "    '치아바타': ['하니', '유리']\n",
    "}\n",
    "\n",
    "key = '브리오슈'\n",
    "who = '단이'"
   ]
  },
  {
   "cell_type": "code",
   "execution_count": 10,
   "id": "81f5f8c2",
   "metadata": {},
   "outputs": [
    {
     "data": {
      "text/plain": [
       "{'바게트': ['철수', '순이'], '치아바타': ['하니', '유리'], '브리오슈': ['단이']}"
      ]
     },
     "execution_count": 10,
     "metadata": {},
     "output_type": "execute_result"
    }
   ],
   "source": [
    "# noisy way 2\n",
    "try:\n",
    "    names = votes[key]\n",
    "    \n",
    "except KeyError:\n",
    "    votes[key] = names = []\n",
    "\n",
    "names.append(who)\n",
    "\n",
    "votes"
   ]
  },
  {
   "cell_type": "code",
   "execution_count": 11,
   "id": "5031007e",
   "metadata": {},
   "outputs": [],
   "source": [
    "votes = {\n",
    "    '바게트': ['철수', '순이'],\n",
    "    '치아바타': ['하니', '유리']\n",
    "}\n",
    "\n",
    "key = '브리오슈'\n",
    "who = '단이'"
   ]
  },
  {
   "cell_type": "code",
   "execution_count": 12,
   "id": "3a030b76",
   "metadata": {},
   "outputs": [
    {
     "data": {
      "text/plain": [
       "{'바게트': ['철수', '순이'], '치아바타': ['하니', '유리'], '브리오슈': ['단이']}"
      ]
     },
     "execution_count": 12,
     "metadata": {},
     "output_type": "execute_result"
    }
   ],
   "source": [
    "# better way\n",
    "\n",
    "names = votes.get(key)\n",
    "if names is None:\n",
    "    votes[key] = names = []\n",
    "\n",
    "names.append(who)\n",
    "votes"
   ]
  },
  {
   "cell_type": "code",
   "execution_count": 13,
   "id": "aa02a52e",
   "metadata": {},
   "outputs": [],
   "source": [
    "votes = {\n",
    "    '바게트': ['철수', '순이'],\n",
    "    '치아바타': ['하니', '유리']\n",
    "}\n",
    "\n",
    "key = '브리오슈'\n",
    "who = '단이'"
   ]
  },
  {
   "cell_type": "code",
   "execution_count": 14,
   "id": "c4d091bb",
   "metadata": {},
   "outputs": [
    {
     "data": {
      "text/plain": [
       "{'바게트': ['철수', '순이'], '치아바타': ['하니', '유리'], '브리오슈': ['단이']}"
      ]
     },
     "execution_count": 14,
     "metadata": {},
     "output_type": "execute_result"
    }
   ],
   "source": [
    "# much better way\n",
    "\n",
    "if (names := votes.get(key)) is None:\n",
    "    votes[key] = names = []\n",
    "\n",
    "names.append(who)\n",
    "votes"
   ]
  },
  {
   "cell_type": "code",
   "execution_count": 15,
   "id": "c0a3e9b6",
   "metadata": {},
   "outputs": [],
   "source": [
    "votes = {\n",
    "    '바게트': ['철수', '순이'],\n",
    "    '치아바타': ['하니', '유리']\n",
    "}\n",
    "\n",
    "key = '브리오슈'\n",
    "who = '단이'"
   ]
  },
  {
   "cell_type": "code",
   "execution_count": 16,
   "id": "5488da99",
   "metadata": {},
   "outputs": [
    {
     "data": {
      "text/plain": [
       "{'바게트': ['철수', '순이'], '치아바타': ['하니', '유리'], '브리오슈': ['단이']}"
      ]
     },
     "execution_count": 16,
     "metadata": {},
     "output_type": "execute_result"
    }
   ],
   "source": [
    "# much much better way\n",
    "names = votes.setdefault(key, [])\n",
    "names.append(who)\n",
    "\n",
    "votes"
   ]
  },
  {
   "cell_type": "markdown",
   "id": "62ec7985",
   "metadata": {},
   "source": [
    "**setdefault 함수를 사용할 때는 주의해야 한다. \n",
    "리스트 인스턴스처럼 value를 만들 때 예외가 없을 경우에는 사용하면 좋지만, 아니라면 주의하자.\n",
    "하지만 이보다 좋은 방법인 defaultdict가 있으니 이는 betterway17에서 알아보자**"
   ]
  }
 ],
 "metadata": {
  "kernelspec": {
   "display_name": "Python 3 (ipykernel)",
   "language": "python",
   "name": "python3"
  },
  "language_info": {
   "codemirror_mode": {
    "name": "ipython",
    "version": 3
   },
   "file_extension": ".py",
   "mimetype": "text/x-python",
   "name": "python",
   "nbconvert_exporter": "python",
   "pygments_lexer": "ipython3",
   "version": "3.9.7"
  }
 },
 "nbformat": 4,
 "nbformat_minor": 5
}
