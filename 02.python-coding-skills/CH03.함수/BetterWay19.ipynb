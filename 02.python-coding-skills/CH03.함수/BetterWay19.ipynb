{
 "cells": [
  {
   "cell_type": "markdown",
   "id": "9e8de2e7",
   "metadata": {},
   "source": [
    "## Better Way 19. 함수가 여러 값을 반환하는 경우 절대로 네 값 이상을 언패킹하지 말라"
   ]
  },
  {
   "cell_type": "markdown",
   "id": "2dad80e1",
   "metadata": {},
   "source": [
    "그래야 하는 상황이 온다면 작은 클래스를 이용하거나 namedtuple을 사용할 것."
   ]
  }
 ],
 "metadata": {
  "kernelspec": {
   "display_name": "Python 3 (ipykernel)",
   "language": "python",
   "name": "python3"
  },
  "language_info": {
   "codemirror_mode": {
    "name": "ipython",
    "version": 3
   },
   "file_extension": ".py",
   "mimetype": "text/x-python",
   "name": "python",
   "nbconvert_exporter": "python",
   "pygments_lexer": "ipython3",
   "version": "3.9.7"
  }
 },
 "nbformat": 4,
 "nbformat_minor": 5
}
