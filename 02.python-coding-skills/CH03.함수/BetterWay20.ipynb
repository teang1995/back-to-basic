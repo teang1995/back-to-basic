{
 "cells": [
  {
   "cell_type": "markdown",
   "id": "4894d4d0",
   "metadata": {},
   "source": [
    "## Better Way 20. None을 반환하기보다는 예외를 발생시켜라."
   ]
  },
  {
   "cell_type": "code",
   "execution_count": 1,
   "id": "a2c5d2f4",
   "metadata": {},
   "outputs": [],
   "source": [
    "# noisy way\n",
    "def careful_devide(a, b):\n",
    "    try:\n",
    "        return a/b\n",
    "    except ZeroDivisionError:\n",
    "        return None"
   ]
  },
  {
   "cell_type": "code",
   "execution_count": 2,
   "id": "a0cd0404",
   "metadata": {},
   "outputs": [
    {
     "name": "stdout",
     "output_type": "stream",
     "text": [
      "결과는 2.5입니다\n"
     ]
    }
   ],
   "source": [
    "# Better way\n",
    "def careful_devide(a, b):\n",
    "    try:\n",
    "        return a / b\n",
    "    except ZeroDivisonError as e:\n",
    "        raise ValueError(\"잘못된 입력\")\n",
    "        \n",
    "x, y = 5 ,2\n",
    "try:\n",
    "    result = careful_devide(x, y)\n",
    "except ValueError:\n",
    "    print(\"잘못된 입력\")\n",
    "    \n",
    "else:\n",
    "    print(f'결과는 {result}입니다')\n",
    "    \n",
    " "
   ]
  },
  {
   "cell_type": "markdown",
   "id": "f38e01ce",
   "metadata": {},
   "source": [
    "- 이 방법을 사용하면 무슨 경우에도 함수가 같은 타입의 결과를 반환함을 장담할 수 있음.\n",
    "- 협업에도 용이함."
   ]
  }
 ],
 "metadata": {
  "kernelspec": {
   "display_name": "Python 3 (ipykernel)",
   "language": "python",
   "name": "python3"
  },
  "language_info": {
   "codemirror_mode": {
    "name": "ipython",
    "version": 3
   },
   "file_extension": ".py",
   "mimetype": "text/x-python",
   "name": "python",
   "nbconvert_exporter": "python",
   "pygments_lexer": "ipython3",
   "version": "3.9.7"
  }
 },
 "nbformat": 4,
 "nbformat_minor": 5
}
