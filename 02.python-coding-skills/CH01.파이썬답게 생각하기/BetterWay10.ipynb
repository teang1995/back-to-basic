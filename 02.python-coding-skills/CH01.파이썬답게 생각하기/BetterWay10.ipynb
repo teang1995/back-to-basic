{
 "cells": [
  {
   "cell_type": "markdown",
   "id": "d8b5dd58",
   "metadata": {},
   "source": [
    "## Better Way 10.  대입식을 사용해 반복을 피해라"
   ]
  },
  {
   "cell_type": "code",
   "execution_count": 1,
   "id": "299ee332",
   "metadata": {},
   "outputs": [],
   "source": [
    "fresh_fruit = {\n",
    "    '사과': 10,\n",
    "    '바나나': 8,\n",
    "    '레몬': 5\n",
    "}"
   ]
  },
  {
   "cell_type": "code",
   "execution_count": 2,
   "id": "cd7b840e",
   "metadata": {},
   "outputs": [
    {
     "name": "stdout",
     "output_type": "stream",
     "text": [
      "make lemonade\n"
     ]
    }
   ],
   "source": [
    "# noisy way\n",
    "def make_lemonade(count):\n",
    "    print('make lemonade')\n",
    "\n",
    "def out_of_stock():\n",
    "    print('out_of_stock')\n",
    "    \n",
    "count = fresh_fruit.get('레몬', 0)\n",
    "if count:\n",
    "    make_lemonade(count)\n",
    "else:\n",
    "    out_of_stock()\n"
   ]
  },
  {
   "cell_type": "code",
   "execution_count": 3,
   "id": "c860464e",
   "metadata": {},
   "outputs": [
    {
     "name": "stdout",
     "output_type": "stream",
     "text": [
      "make lemonade\n"
     ]
    }
   ],
   "source": [
    "# better way\n",
    "if count := fresh_fruit.get('레몬', 0):\n",
    "    make_lemonade(count)\n",
    "    \n",
    "else:\n",
    "    out_of_stock()\n"
   ]
  },
  {
   "cell_type": "markdown",
   "id": "e62e5820",
   "metadata": {},
   "source": [
    "**Best Way - 왈러스 연산자**\n",
    "\n",
    "```py\n",
    "bottles = []\n",
    "while fresh_fruit := pick_fruit():\n",
    "    for fruit, count in fresh_fruit.items():\n",
    "        batch = make_jucie(fruit, count)\n",
    "        bottles.extend(batch)\n",
    "```"
   ]
  }
 ],
 "metadata": {
  "kernelspec": {
   "display_name": "Python 3 (ipykernel)",
   "language": "python",
   "name": "python3"
  },
  "language_info": {
   "codemirror_mode": {
    "name": "ipython",
    "version": 3
   },
   "file_extension": ".py",
   "mimetype": "text/x-python",
   "name": "python",
   "nbconvert_exporter": "python",
   "pygments_lexer": "ipython3",
   "version": "3.9.7"
  }
 },
 "nbformat": 4,
 "nbformat_minor": 5
}
