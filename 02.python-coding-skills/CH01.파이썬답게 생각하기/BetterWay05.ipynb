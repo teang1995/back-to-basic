{
 "cells": [
  {
   "cell_type": "markdown",
   "id": "9f74e175",
   "metadata": {},
   "source": [
    "## Better Way 05. 복잡한 식을 쓰는 대신 도우미 함수를 작성하라"
   ]
  },
  {
   "cell_type": "code",
   "execution_count": 2,
   "id": "bb9f106e",
   "metadata": {},
   "outputs": [],
   "source": [
    "from urllib.parse import parse_qs"
   ]
  },
  {
   "cell_type": "code",
   "execution_count": 3,
   "id": "f8400af3",
   "metadata": {},
   "outputs": [],
   "source": [
    "my_values = parse_qs('빨강=5&파랑=0&초록=',\n",
    "                    keep_blank_values=True)"
   ]
  },
  {
   "cell_type": "code",
   "execution_count": 4,
   "id": "b7181c82",
   "metadata": {},
   "outputs": [
    {
     "data": {
      "text/plain": [
       "{'빨강': ['5'], '파랑': ['0'], '초록': ['']}"
      ]
     },
     "execution_count": 4,
     "metadata": {},
     "output_type": "execute_result"
    }
   ],
   "source": [
    "my_values"
   ]
  },
  {
   "cell_type": "code",
   "execution_count": 5,
   "id": "a2e1f188",
   "metadata": {
    "scrolled": true
   },
   "outputs": [
    {
     "data": {
      "text/plain": [
       "['5']"
      ]
     },
     "execution_count": 5,
     "metadata": {},
     "output_type": "execute_result"
    }
   ],
   "source": [
    "my_values.get('빨강')"
   ]
  },
  {
   "cell_type": "code",
   "execution_count": 8,
   "id": "7e88aa81",
   "metadata": {},
   "outputs": [
    {
     "data": {
      "text/plain": [
       "['5']"
      ]
     },
     "execution_count": 8,
     "metadata": {},
     "output_type": "execute_result"
    }
   ],
   "source": [
    "my_values.get('빨강', [''])"
   ]
  },
  {
   "cell_type": "code",
   "execution_count": 7,
   "id": "d25b63ac",
   "metadata": {
    "scrolled": true
   },
   "outputs": [
    {
     "data": {
      "text/plain": [
       "0"
      ]
     },
     "execution_count": 7,
     "metadata": {},
     "output_type": "execute_result"
    }
   ],
   "source": [
    "opacity = my_values.get('투명도', [''])[0] or 0\n",
    "opacity"
   ]
  },
  {
   "cell_type": "markdown",
   "id": "3b24fa32",
   "metadata": {},
   "source": [
    "**이렇게 쓰는 건 너무 길고 복잡하다.**"
   ]
  },
  {
   "cell_type": "code",
   "execution_count": 10,
   "id": "78e06f38",
   "metadata": {},
   "outputs": [
    {
     "data": {
      "text/plain": [
       "5"
      ]
     },
     "execution_count": 10,
     "metadata": {},
     "output_type": "execute_result"
    }
   ],
   "source": [
    "red_str = my_values.get('빨강', [''])\n",
    "red = int(red_str[0]) if red_str[0] else 0\n",
    "red"
   ]
  },
  {
   "cell_type": "markdown",
   "id": "868279ea",
   "metadata": {},
   "source": [
    "**여기서 조금 더 보기 쉽게**"
   ]
  },
  {
   "cell_type": "code",
   "execution_count": 11,
   "id": "df347eb4",
   "metadata": {},
   "outputs": [
    {
     "data": {
      "text/plain": [
       "0"
      ]
     },
     "execution_count": 11,
     "metadata": {},
     "output_type": "execute_result"
    }
   ],
   "source": [
    "green_str = my_values.get('초록', [''])\n",
    "if green_str[0]:\n",
    "    green = int(green_str[0])\n",
    "    \n",
    "else:\n",
    "    green = 0\n",
    "green"
   ]
  },
  {
   "cell_type": "markdown",
   "id": "e8d7681d",
   "metadata": {},
   "source": [
    "**이걸 조금 일반화 시켜 도우미 함수를 작성하면**"
   ]
  },
  {
   "cell_type": "code",
   "execution_count": 12,
   "id": "9ef2b466",
   "metadata": {},
   "outputs": [],
   "source": [
    "def get_first_int(values, key, default=0):\n",
    "    found = values.get(key, [''])\n",
    "    if found[0]:\n",
    "        return int(found[0])\n",
    "    \n",
    "    return default"
   ]
  },
  {
   "cell_type": "code",
   "execution_count": 13,
   "id": "551866f6",
   "metadata": {},
   "outputs": [
    {
     "data": {
      "text/plain": [
       "0"
      ]
     },
     "execution_count": 13,
     "metadata": {},
     "output_type": "execute_result"
    }
   ],
   "source": [
    "green = get_first_int(my_values, '초록')\n",
    "green"
   ]
  },
  {
   "cell_type": "markdown",
   "id": "717de272",
   "metadata": {},
   "source": [
    "**DRY(Don't Repeat Yourself). 반복하지 말고 가독성 있는 코드를 작성하자.\"**"
   ]
  }
 ],
 "metadata": {
  "kernelspec": {
   "display_name": "Python 3 (ipykernel)",
   "language": "python",
   "name": "python3"
  },
  "language_info": {
   "codemirror_mode": {
    "name": "ipython",
    "version": 3
   },
   "file_extension": ".py",
   "mimetype": "text/x-python",
   "name": "python",
   "nbconvert_exporter": "python",
   "pygments_lexer": "ipython3",
   "version": "3.9.7"
  }
 },
 "nbformat": 4,
 "nbformat_minor": 5
}
