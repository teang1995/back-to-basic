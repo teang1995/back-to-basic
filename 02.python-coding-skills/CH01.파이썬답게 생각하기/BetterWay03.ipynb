{
 "cells": [
  {
   "cell_type": "markdown",
   "id": "910ef2c5",
   "metadata": {},
   "source": [
    "## Better Way 03. bytes와 str의 차이를 알아두라."
   ]
  },
  {
   "cell_type": "markdown",
   "id": "be0bfd6f",
   "metadata": {},
   "source": [
    "아래 코드처럼 bytes type 인스턴스에는 부호가 없는 8바이트 데이터가 그대로 들어감"
   ]
  },
  {
   "cell_type": "code",
   "execution_count": 1,
   "id": "376dfdb0",
   "metadata": {},
   "outputs": [
    {
     "name": "stdout",
     "output_type": "stream",
     "text": [
      "[104, 101, 108, 108, 111]\n",
      "b'hello'\n"
     ]
    }
   ],
   "source": [
    "a = b'h\\x65llo'\n",
    "print(list(a))\n",
    "print(a)"
   ]
  },
  {
   "cell_type": "markdown",
   "id": "3a392676",
   "metadata": {},
   "source": [
    "str 인스턴스에는 사람이 사용하는 언어의 문자를 표현하는 유니코드 코드 포인트가 들어있음"
   ]
  },
  {
   "cell_type": "code",
   "execution_count": 2,
   "id": "4a705791",
   "metadata": {},
   "outputs": [
    {
     "name": "stdout",
     "output_type": "stream",
     "text": [
      "['a', '̀', ' ', 'p', 'r', 'o', 'p', 's']\n",
      "à props\n"
     ]
    }
   ],
   "source": [
    "a = 'a\\u0300 props'\n",
    "print(list(a))\n",
    "print(a)"
   ]
  },
  {
   "cell_type": "markdown",
   "id": "d6ec8434",
   "metadata": {},
   "source": [
    "str 인스턴스에는 직접 대응하는 이진 인코딩이 없고,\n",
    "bytes 인스턴스에는 직접 대응하는 텍스트 인코딩이 없다.\n",
    "\n",
    "유니코드 데이터 - `str.encode` -> 이진 데이터\n",
    "\n",
    "이진 데이터 - `bytes.decode` -> 유니코드 데이터\n",
    "\n",
    "`UTF-8`이 디폴트 인코딩 방식임\n",
    "\n",
    "파이썬 프로그램을 작성할 때는 유니코드 데이터를 인코딩하거나, 디코딩하는 부분을 인터페이스의 가장 먼 경계 지점에 위치시킬 것.\n",
    "이를 **유니코드 샌드위치**라고 함.\n",
    "\n",
    "- 프로그램의 핵심 부분은 유니코드 데이터가 들어간 str만 사용. 문자 인코딩에 어떤 가정도 하지 않음.\n",
    "- 다양한 텍스트 인코딩을 입력 데이터로 받아들이고 출력 텍스트 인코딩은 UTF-8 한 가지로 엄격히 제한.\n",
    "\n"
   ]
  },
  {
   "cell_type": "code",
   "execution_count": 10,
   "id": "43f695d5",
   "metadata": {},
   "outputs": [
    {
     "name": "stdout",
     "output_type": "stream",
     "text": [
      "'foo'\n",
      "'bar'\n",
      "'한'\n"
     ]
    }
   ],
   "source": [
    "def to_str(bytes_or_str):\n",
    "    if isinstance(bytes_or_str, bytes):\n",
    "        value = bytes_or_str.decode('utf-8')\n",
    "        \n",
    "    else:\n",
    "        value = bytes_or_str\n",
    "    \n",
    "    return value\n",
    "\n",
    "print(repr(to_str(b'foo')))\n",
    "print(repr(to_str('bar')))\n",
    "print(repr(to_str(b'\\xed\\x95\\x9c')))"
   ]
  },
  {
   "cell_type": "code",
   "execution_count": 13,
   "id": "74cbe18c",
   "metadata": {
    "scrolled": true
   },
   "outputs": [
    {
     "name": "stdout",
     "output_type": "stream",
     "text": [
      "b'foo'\n",
      "b'bar'\n",
      "b'\\xed\\x95\\x9c'\n"
     ]
    }
   ],
   "source": [
    "def to_bytes(bytes_or_str):\n",
    "    if isinstance(bytes_or_str, str):\n",
    "        value = bytes_or_str.encode('utf-8')\n",
    "        \n",
    "    else:\n",
    "        value = bytes_or_str\n",
    "    \n",
    "    return value\n",
    "\n",
    "print(repr(to_bytes(b'foo')))\n",
    "print(repr(to_bytes('bar')))\n",
    "print(repr(to_bytes(b'\\xed\\x95\\x9c')))"
   ]
  },
  {
   "cell_type": "markdown",
   "id": "ea287f70",
   "metadata": {},
   "source": [
    "### 위처럼, str와 bytes 인스턴스는 서로 호환되지 않으므로 중간에 문자 시퀀스가 어떤 타입인지 잘 알고 있어야 함."
   ]
  },
  {
   "cell_type": "markdown",
   "id": "154f7b40",
   "metadata": {},
   "source": [
    "- 이진 데이터를 파일에서 읽거나 파일에 쓰고 싶으면 항상 이진 모드('rb', 'wb')로 파일을 열어야 함.\n",
    "- 유니코드 데이터를 파일에서 읽거나 파일에 쓸 때는 항상 open 함수에 encoding 파라미터를 명시적으로 전달해야 함."
   ]
  }
 ],
 "metadata": {
  "kernelspec": {
   "display_name": "Python 3 (ipykernel)",
   "language": "python",
   "name": "python3"
  },
  "language_info": {
   "codemirror_mode": {
    "name": "ipython",
    "version": 3
   },
   "file_extension": ".py",
   "mimetype": "text/x-python",
   "name": "python",
   "nbconvert_exporter": "python",
   "pygments_lexer": "ipython3",
   "version": "3.9.7"
  }
 },
 "nbformat": 4,
 "nbformat_minor": 5
}
